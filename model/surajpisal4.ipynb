{
 "cells": [
  {
   "cell_type": "code",
   "execution_count": 1,
   "metadata": {},
   "outputs": [],
   "source": [
    "\n",
    "# importing required libraries\n",
    "import pandas as pd \n",
    "import seaborn as sns \n",
    "import matplotlib.pyplot as plt\n",
    "import numpy as np\n",
    "\n",
    "\n",
    "# nltk libraries used for NLP\n",
    "import nltk\n",
    "from nltk.corpus import stopwords\n",
    "from nltk.stem import WordNetLemmatizer\n",
    "from nltk.tokenize import word_tokenize\n",
    "# from sklearn.feature_extraction.text import CountVectorizer\n",
    "# from sklearn.feature_extraction.text import TfidfVectorizer\n",
    "# from sklearn.model_selection import train_test_split\n",
    "# from sklearn.linear_model import LogisticRegression\n",
    "# from sklearn.metrics import accuracy_score, confusion_matrix, classification_report\n",
    "# from sklearn.naive_bayes import MultinomialNB\n"
   ]
  },
  {
   "cell_type": "code",
   "execution_count": 26,
   "metadata": {},
   "outputs": [
    {
     "data": {
      "text/html": [
       "<div>\n",
       "<style scoped>\n",
       "    .dataframe tbody tr th:only-of-type {\n",
       "        vertical-align: middle;\n",
       "    }\n",
       "\n",
       "    .dataframe tbody tr th {\n",
       "        vertical-align: top;\n",
       "    }\n",
       "\n",
       "    .dataframe thead th {\n",
       "        text-align: right;\n",
       "    }\n",
       "</style>\n",
       "<table border=\"1\" class=\"dataframe\">\n",
       "  <thead>\n",
       "    <tr style=\"text-align: right;\">\n",
       "      <th></th>\n",
       "      <th>id</th>\n",
       "      <th>name</th>\n",
       "      <th>document_text</th>\n",
       "      <th>cat_name</th>\n",
       "    </tr>\n",
       "  </thead>\n",
       "  <tbody>\n",
       "    <tr>\n",
       "      <th>0</th>\n",
       "      <td>22474</td>\n",
       "      <td>[ 'inform ' , 'regard ' , 'merger ' , 'navio '...</td>\n",
       "      <td>[ 'at ' , 'special ' , 'meet ' , 'held ' , 'ma...</td>\n",
       "      <td>Corporate Communications</td>\n",
       "    </tr>\n",
       "    <tr>\n",
       "      <th>1</th>\n",
       "      <td>27460</td>\n",
       "      <td>[ 'announc ' , 'approv ' , 'chang ' , 'members...</td>\n",
       "      <td>[ 'on ' , 'april ' , ' 2 ' , '2021 ' , 'china ...</td>\n",
       "      <td>Securities Settlement</td>\n",
       "    </tr>\n",
       "    <tr>\n",
       "      <th>2</th>\n",
       "      <td>6926</td>\n",
       "      <td>[ 'sfc ' , 'suspend ' , 'shiu ' , 'yau ' , 'wa...</td>\n",
       "      <td>[ 'the ' , 'secur ' , 'futur ' , 'commiss ' , ...</td>\n",
       "      <td>Antitrust</td>\n",
       "    </tr>\n",
       "    <tr>\n",
       "      <th>3</th>\n",
       "      <td>6982</td>\n",
       "      <td>[ 'renminbi ' , 'rmb ' , 'haircut ' , 'februar...</td>\n",
       "      <td>[ 'pursuant ' , 'section ' , '262 ' , 'clear '...</td>\n",
       "      <td>Securities Settlement</td>\n",
       "    </tr>\n",
       "    <tr>\n",
       "      <th>4</th>\n",
       "      <td>5022</td>\n",
       "      <td>[ 'antimoney ' , 'launder ' , 'counter ' , 'fi...</td>\n",
       "      <td>[ 'money ' , 'launder ' , 'terror ' , 'financ ...</td>\n",
       "      <td>Financial Crime</td>\n",
       "    </tr>\n",
       "  </tbody>\n",
       "</table>\n",
       "</div>"
      ],
      "text/plain": [
       "      id                                               name  \\\n",
       "0  22474  [ 'inform ' , 'regard ' , 'merger ' , 'navio '...   \n",
       "1  27460  [ 'announc ' , 'approv ' , 'chang ' , 'members...   \n",
       "2   6926  [ 'sfc ' , 'suspend ' , 'shiu ' , 'yau ' , 'wa...   \n",
       "3   6982  [ 'renminbi ' , 'rmb ' , 'haircut ' , 'februar...   \n",
       "4   5022  [ 'antimoney ' , 'launder ' , 'counter ' , 'fi...   \n",
       "\n",
       "                                       document_text                  cat_name  \n",
       "0  [ 'at ' , 'special ' , 'meet ' , 'held ' , 'ma...  Corporate Communications  \n",
       "1  [ 'on ' , 'april ' , ' 2 ' , '2021 ' , 'china ...     Securities Settlement  \n",
       "2  [ 'the ' , 'secur ' , 'futur ' , 'commiss ' , ...                 Antitrust  \n",
       "3  [ 'pursuant ' , 'section ' , '262 ' , 'clear '...     Securities Settlement  \n",
       "4  [ 'money ' , 'launder ' , 'terror ' , 'financ ...           Financial Crime  "
      ]
     },
     "execution_count": 26,
     "metadata": {},
     "output_type": "execute_result"
    }
   ],
   "source": [
    "df = pd.read_csv('../dataset/train_cleaned3.csv')\n",
    "df.head()"
   ]
  },
  {
   "cell_type": "code",
   "execution_count": 27,
   "metadata": {},
   "outputs": [],
   "source": [
    " df['name2'] = df['name'].apply(lambda x: x[1:-1])"
   ]
  },
  {
   "cell_type": "code",
   "execution_count": 28,
   "metadata": {},
   "outputs": [
    {
     "data": {
      "text/html": [
       "<div>\n",
       "<style scoped>\n",
       "    .dataframe tbody tr th:only-of-type {\n",
       "        vertical-align: middle;\n",
       "    }\n",
       "\n",
       "    .dataframe tbody tr th {\n",
       "        vertical-align: top;\n",
       "    }\n",
       "\n",
       "    .dataframe thead th {\n",
       "        text-align: right;\n",
       "    }\n",
       "</style>\n",
       "<table border=\"1\" class=\"dataframe\">\n",
       "  <thead>\n",
       "    <tr style=\"text-align: right;\">\n",
       "      <th></th>\n",
       "      <th>id</th>\n",
       "      <th>name</th>\n",
       "      <th>document_text</th>\n",
       "      <th>cat_name</th>\n",
       "      <th>name2</th>\n",
       "    </tr>\n",
       "  </thead>\n",
       "  <tbody>\n",
       "    <tr>\n",
       "      <th>0</th>\n",
       "      <td>22474</td>\n",
       "      <td>[ 'inform ' , 'regard ' , 'merger ' , 'navio '...</td>\n",
       "      <td>[ 'at ' , 'special ' , 'meet ' , 'held ' , 'ma...</td>\n",
       "      <td>Corporate Communications</td>\n",
       "      <td>'inform ' , 'regard ' , 'merger ' , 'navio ' ...</td>\n",
       "    </tr>\n",
       "    <tr>\n",
       "      <th>1</th>\n",
       "      <td>27460</td>\n",
       "      <td>[ 'announc ' , 'approv ' , 'chang ' , 'members...</td>\n",
       "      <td>[ 'on ' , 'april ' , ' 2 ' , '2021 ' , 'china ...</td>\n",
       "      <td>Securities Settlement</td>\n",
       "      <td>'announc ' , 'approv ' , 'chang ' , 'membersh...</td>\n",
       "    </tr>\n",
       "    <tr>\n",
       "      <th>2</th>\n",
       "      <td>6926</td>\n",
       "      <td>[ 'sfc ' , 'suspend ' , 'shiu ' , 'yau ' , 'wa...</td>\n",
       "      <td>[ 'the ' , 'secur ' , 'futur ' , 'commiss ' , ...</td>\n",
       "      <td>Antitrust</td>\n",
       "      <td>'sfc ' , 'suspend ' , 'shiu ' , 'yau ' , 'wah...</td>\n",
       "    </tr>\n",
       "    <tr>\n",
       "      <th>3</th>\n",
       "      <td>6982</td>\n",
       "      <td>[ 'renminbi ' , 'rmb ' , 'haircut ' , 'februar...</td>\n",
       "      <td>[ 'pursuant ' , 'section ' , '262 ' , 'clear '...</td>\n",
       "      <td>Securities Settlement</td>\n",
       "      <td>'renminbi ' , 'rmb ' , 'haircut ' , 'februari...</td>\n",
       "    </tr>\n",
       "    <tr>\n",
       "      <th>4</th>\n",
       "      <td>5022</td>\n",
       "      <td>[ 'antimoney ' , 'launder ' , 'counter ' , 'fi...</td>\n",
       "      <td>[ 'money ' , 'launder ' , 'terror ' , 'financ ...</td>\n",
       "      <td>Financial Crime</td>\n",
       "      <td>'antimoney ' , 'launder ' , 'counter ' , 'fin...</td>\n",
       "    </tr>\n",
       "  </tbody>\n",
       "</table>\n",
       "</div>"
      ],
      "text/plain": [
       "      id                                               name  \\\n",
       "0  22474  [ 'inform ' , 'regard ' , 'merger ' , 'navio '...   \n",
       "1  27460  [ 'announc ' , 'approv ' , 'chang ' , 'members...   \n",
       "2   6926  [ 'sfc ' , 'suspend ' , 'shiu ' , 'yau ' , 'wa...   \n",
       "3   6982  [ 'renminbi ' , 'rmb ' , 'haircut ' , 'februar...   \n",
       "4   5022  [ 'antimoney ' , 'launder ' , 'counter ' , 'fi...   \n",
       "\n",
       "                                       document_text  \\\n",
       "0  [ 'at ' , 'special ' , 'meet ' , 'held ' , 'ma...   \n",
       "1  [ 'on ' , 'april ' , ' 2 ' , '2021 ' , 'china ...   \n",
       "2  [ 'the ' , 'secur ' , 'futur ' , 'commiss ' , ...   \n",
       "3  [ 'pursuant ' , 'section ' , '262 ' , 'clear '...   \n",
       "4  [ 'money ' , 'launder ' , 'terror ' , 'financ ...   \n",
       "\n",
       "                   cat_name                                              name2  \n",
       "0  Corporate Communications   'inform ' , 'regard ' , 'merger ' , 'navio ' ...  \n",
       "1     Securities Settlement   'announc ' , 'approv ' , 'chang ' , 'membersh...  \n",
       "2                 Antitrust   'sfc ' , 'suspend ' , 'shiu ' , 'yau ' , 'wah...  \n",
       "3     Securities Settlement   'renminbi ' , 'rmb ' , 'haircut ' , 'februari...  \n",
       "4           Financial Crime   'antimoney ' , 'launder ' , 'counter ' , 'fin...  "
      ]
     },
     "execution_count": 28,
     "metadata": {},
     "output_type": "execute_result"
    }
   ],
   "source": [
    "df.head()"
   ]
  },
  {
   "cell_type": "code",
   "execution_count": 22,
   "metadata": {},
   "outputs": [],
   "source": [
    "df['name'] = df['name'].apply(lambda x: ''.join(x))"
   ]
  },
  {
   "cell_type": "code",
   "execution_count": 23,
   "metadata": {},
   "outputs": [
    {
     "data": {
      "text/html": [
       "<div>\n",
       "<style scoped>\n",
       "    .dataframe tbody tr th:only-of-type {\n",
       "        vertical-align: middle;\n",
       "    }\n",
       "\n",
       "    .dataframe tbody tr th {\n",
       "        vertical-align: top;\n",
       "    }\n",
       "\n",
       "    .dataframe thead th {\n",
       "        text-align: right;\n",
       "    }\n",
       "</style>\n",
       "<table border=\"1\" class=\"dataframe\">\n",
       "  <thead>\n",
       "    <tr style=\"text-align: right;\">\n",
       "      <th></th>\n",
       "      <th>id</th>\n",
       "      <th>name</th>\n",
       "      <th>document_text</th>\n",
       "      <th>cat_name</th>\n",
       "    </tr>\n",
       "  </thead>\n",
       "  <tbody>\n",
       "    <tr>\n",
       "      <th>0</th>\n",
       "      <td>22474</td>\n",
       "      <td>[ 'inform ' , 'regard ' , 'merger ' , 'navio '...</td>\n",
       "      <td>[ 'at ' , 'special ' , 'meet ' , 'held ' , 'ma...</td>\n",
       "      <td>Corporate Communications</td>\n",
       "    </tr>\n",
       "    <tr>\n",
       "      <th>1</th>\n",
       "      <td>27460</td>\n",
       "      <td>[ 'announc ' , 'approv ' , 'chang ' , 'members...</td>\n",
       "      <td>[ 'on ' , 'april ' , ' 2 ' , '2021 ' , 'china ...</td>\n",
       "      <td>Securities Settlement</td>\n",
       "    </tr>\n",
       "    <tr>\n",
       "      <th>2</th>\n",
       "      <td>6926</td>\n",
       "      <td>[ 'sfc ' , 'suspend ' , 'shiu ' , 'yau ' , 'wa...</td>\n",
       "      <td>[ 'the ' , 'secur ' , 'futur ' , 'commiss ' , ...</td>\n",
       "      <td>Antitrust</td>\n",
       "    </tr>\n",
       "    <tr>\n",
       "      <th>3</th>\n",
       "      <td>6982</td>\n",
       "      <td>[ 'renminbi ' , 'rmb ' , 'haircut ' , 'februar...</td>\n",
       "      <td>[ 'pursuant ' , 'section ' , '262 ' , 'clear '...</td>\n",
       "      <td>Securities Settlement</td>\n",
       "    </tr>\n",
       "    <tr>\n",
       "      <th>4</th>\n",
       "      <td>5022</td>\n",
       "      <td>[ 'antimoney ' , 'launder ' , 'counter ' , 'fi...</td>\n",
       "      <td>[ 'money ' , 'launder ' , 'terror ' , 'financ ...</td>\n",
       "      <td>Financial Crime</td>\n",
       "    </tr>\n",
       "  </tbody>\n",
       "</table>\n",
       "</div>"
      ],
      "text/plain": [
       "      id                                               name  \\\n",
       "0  22474  [ 'inform ' , 'regard ' , 'merger ' , 'navio '...   \n",
       "1  27460  [ 'announc ' , 'approv ' , 'chang ' , 'members...   \n",
       "2   6926  [ 'sfc ' , 'suspend ' , 'shiu ' , 'yau ' , 'wa...   \n",
       "3   6982  [ 'renminbi ' , 'rmb ' , 'haircut ' , 'februar...   \n",
       "4   5022  [ 'antimoney ' , 'launder ' , 'counter ' , 'fi...   \n",
       "\n",
       "                                       document_text                  cat_name  \n",
       "0  [ 'at ' , 'special ' , 'meet ' , 'held ' , 'ma...  Corporate Communications  \n",
       "1  [ 'on ' , 'april ' , ' 2 ' , '2021 ' , 'china ...     Securities Settlement  \n",
       "2  [ 'the ' , 'secur ' , 'futur ' , 'commiss ' , ...                 Antitrust  \n",
       "3  [ 'pursuant ' , 'section ' , '262 ' , 'clear '...     Securities Settlement  \n",
       "4  [ 'money ' , 'launder ' , 'terror ' , 'financ ...           Financial Crime  "
      ]
     },
     "execution_count": 23,
     "metadata": {},
     "output_type": "execute_result"
    }
   ],
   "source": [
    "df.head()"
   ]
  },
  {
   "cell_type": "code",
   "execution_count": 15,
   "metadata": {},
   "outputs": [
    {
     "data": {
      "text/html": [
       "<div>\n",
       "<style scoped>\n",
       "    .dataframe tbody tr th:only-of-type {\n",
       "        vertical-align: middle;\n",
       "    }\n",
       "\n",
       "    .dataframe tbody tr th {\n",
       "        vertical-align: top;\n",
       "    }\n",
       "\n",
       "    .dataframe thead th {\n",
       "        text-align: right;\n",
       "    }\n",
       "</style>\n",
       "<table border=\"1\" class=\"dataframe\">\n",
       "  <thead>\n",
       "    <tr style=\"text-align: right;\">\n",
       "      <th></th>\n",
       "      <th>id</th>\n",
       "      <th>name</th>\n",
       "      <th>document_text</th>\n",
       "      <th>cat_name</th>\n",
       "    </tr>\n",
       "  </thead>\n",
       "  <tbody>\n",
       "    <tr>\n",
       "      <th>0</th>\n",
       "      <td>22474</td>\n",
       "      <td>[ 'inform ' , 'regard ' , 'merger ' , 'navio '...</td>\n",
       "      <td>[ 'at ' , 'special ' , 'meet ' , 'held ' , 'ma...</td>\n",
       "      <td>Corporate Communications</td>\n",
       "    </tr>\n",
       "    <tr>\n",
       "      <th>1</th>\n",
       "      <td>27460</td>\n",
       "      <td>[ 'announc ' , 'approv ' , 'chang ' , 'members...</td>\n",
       "      <td>[ 'on ' , 'april ' , ' 2 ' , '2021 ' , 'china ...</td>\n",
       "      <td>Securities Settlement</td>\n",
       "    </tr>\n",
       "    <tr>\n",
       "      <th>2</th>\n",
       "      <td>6926</td>\n",
       "      <td>[ 'sfc ' , 'suspend ' , 'shiu ' , 'yau ' , 'wa...</td>\n",
       "      <td>[ 'the ' , 'secur ' , 'futur ' , 'commiss ' , ...</td>\n",
       "      <td>Antitrust</td>\n",
       "    </tr>\n",
       "    <tr>\n",
       "      <th>3</th>\n",
       "      <td>6982</td>\n",
       "      <td>[ 'renminbi ' , 'rmb ' , 'haircut ' , 'februar...</td>\n",
       "      <td>[ 'pursuant ' , 'section ' , '262 ' , 'clear '...</td>\n",
       "      <td>Securities Settlement</td>\n",
       "    </tr>\n",
       "    <tr>\n",
       "      <th>4</th>\n",
       "      <td>5022</td>\n",
       "      <td>[ 'antimoney ' , 'launder ' , 'counter ' , 'fi...</td>\n",
       "      <td>[ 'money ' , 'launder ' , 'terror ' , 'financ ...</td>\n",
       "      <td>Financial Crime</td>\n",
       "    </tr>\n",
       "  </tbody>\n",
       "</table>\n",
       "</div>"
      ],
      "text/plain": [
       "      id                                               name  \\\n",
       "0  22474  [ 'inform ' , 'regard ' , 'merger ' , 'navio '...   \n",
       "1  27460  [ 'announc ' , 'approv ' , 'chang ' , 'members...   \n",
       "2   6926  [ 'sfc ' , 'suspend ' , 'shiu ' , 'yau ' , 'wa...   \n",
       "3   6982  [ 'renminbi ' , 'rmb ' , 'haircut ' , 'februar...   \n",
       "4   5022  [ 'antimoney ' , 'launder ' , 'counter ' , 'fi...   \n",
       "\n",
       "                                       document_text                  cat_name  \n",
       "0  [ 'at ' , 'special ' , 'meet ' , 'held ' , 'ma...  Corporate Communications  \n",
       "1  [ 'on ' , 'april ' , ' 2 ' , '2021 ' , 'china ...     Securities Settlement  \n",
       "2  [ 'the ' , 'secur ' , 'futur ' , 'commiss ' , ...                 Antitrust  \n",
       "3  [ 'pursuant ' , 'section ' , '262 ' , 'clear '...     Securities Settlement  \n",
       "4  [ 'money ' , 'launder ' , 'terror ' , 'financ ...           Financial Crime  "
      ]
     },
     "execution_count": 15,
     "metadata": {},
     "output_type": "execute_result"
    }
   ],
   "source": []
  },
  {
   "cell_type": "code",
   "execution_count": 11,
   "metadata": {},
   "outputs": [],
   "source": [
    "df['name'] = df['name'] + df['document_text']\n",
    "df.drop(['document_text'], axis=1, inplace=True)"
   ]
  },
  {
   "cell_type": "code",
   "execution_count": 12,
   "metadata": {},
   "outputs": [
    {
     "data": {
      "text/html": [
       "<div>\n",
       "<style scoped>\n",
       "    .dataframe tbody tr th:only-of-type {\n",
       "        vertical-align: middle;\n",
       "    }\n",
       "\n",
       "    .dataframe tbody tr th {\n",
       "        vertical-align: top;\n",
       "    }\n",
       "\n",
       "    .dataframe thead th {\n",
       "        text-align: right;\n",
       "    }\n",
       "</style>\n",
       "<table border=\"1\" class=\"dataframe\">\n",
       "  <thead>\n",
       "    <tr style=\"text-align: right;\">\n",
       "      <th></th>\n",
       "      <th>id</th>\n",
       "      <th>name</th>\n",
       "      <th>cat_name</th>\n",
       "    </tr>\n",
       "  </thead>\n",
       "  <tbody>\n",
       "    <tr>\n",
       "      <th>0</th>\n",
       "      <td>22474</td>\n",
       "      <td>[   ' i n f o r m   '   ,   ' r e g a r d   ' ...</td>\n",
       "      <td>Corporate Communications</td>\n",
       "    </tr>\n",
       "    <tr>\n",
       "      <th>1</th>\n",
       "      <td>27460</td>\n",
       "      <td>[   ' a n n o u n c   '   ,   ' a p p r o v   ...</td>\n",
       "      <td>Securities Settlement</td>\n",
       "    </tr>\n",
       "    <tr>\n",
       "      <th>2</th>\n",
       "      <td>6926</td>\n",
       "      <td>[   ' s f c   '   ,   ' s u s p e n d   '   , ...</td>\n",
       "      <td>Antitrust</td>\n",
       "    </tr>\n",
       "    <tr>\n",
       "      <th>3</th>\n",
       "      <td>6982</td>\n",
       "      <td>[   ' r e n m i n b i   '   ,   ' r m b   '   ...</td>\n",
       "      <td>Securities Settlement</td>\n",
       "    </tr>\n",
       "    <tr>\n",
       "      <th>4</th>\n",
       "      <td>5022</td>\n",
       "      <td>[   ' a n t i m o n e y   '   ,   ' l a u n d ...</td>\n",
       "      <td>Financial Crime</td>\n",
       "    </tr>\n",
       "  </tbody>\n",
       "</table>\n",
       "</div>"
      ],
      "text/plain": [
       "      id                                               name  \\\n",
       "0  22474  [   ' i n f o r m   '   ,   ' r e g a r d   ' ...   \n",
       "1  27460  [   ' a n n o u n c   '   ,   ' a p p r o v   ...   \n",
       "2   6926  [   ' s f c   '   ,   ' s u s p e n d   '   , ...   \n",
       "3   6982  [   ' r e n m i n b i   '   ,   ' r m b   '   ...   \n",
       "4   5022  [   ' a n t i m o n e y   '   ,   ' l a u n d ...   \n",
       "\n",
       "                   cat_name  \n",
       "0  Corporate Communications  \n",
       "1     Securities Settlement  \n",
       "2                 Antitrust  \n",
       "3     Securities Settlement  \n",
       "4           Financial Crime  "
      ]
     },
     "execution_count": 12,
     "metadata": {},
     "output_type": "execute_result"
    }
   ],
   "source": [
    "df.head()"
   ]
  },
  {
   "cell_type": "code",
   "execution_count": 53,
   "metadata": {},
   "outputs": [],
   "source": [
    "X = df[['name']]\n",
    "y = df['cat_name']"
   ]
  },
  {
   "cell_type": "code",
   "execution_count": 54,
   "metadata": {},
   "outputs": [
    {
     "data": {
      "text/html": [
       "<div>\n",
       "<style scoped>\n",
       "    .dataframe tbody tr th:only-of-type {\n",
       "        vertical-align: middle;\n",
       "    }\n",
       "\n",
       "    .dataframe tbody tr th {\n",
       "        vertical-align: top;\n",
       "    }\n",
       "\n",
       "    .dataframe thead th {\n",
       "        text-align: right;\n",
       "    }\n",
       "</style>\n",
       "<table border=\"1\" class=\"dataframe\">\n",
       "  <thead>\n",
       "    <tr style=\"text-align: right;\">\n",
       "      <th></th>\n",
       "      <th>name</th>\n",
       "    </tr>\n",
       "  </thead>\n",
       "  <tbody>\n",
       "    <tr>\n",
       "      <th>0</th>\n",
       "      <td>[ 'inform ' , 'regard ' , 'merger ' , 'navio '...</td>\n",
       "    </tr>\n",
       "    <tr>\n",
       "      <th>1</th>\n",
       "      <td>[ 'announc ' , 'approv ' , 'chang ' , 'members...</td>\n",
       "    </tr>\n",
       "    <tr>\n",
       "      <th>2</th>\n",
       "      <td>[ 'sfc ' , 'suspend ' , 'shiu ' , 'yau ' , 'wa...</td>\n",
       "    </tr>\n",
       "    <tr>\n",
       "      <th>3</th>\n",
       "      <td>[ 'renminbi ' , 'rmb ' , 'haircut ' , 'februar...</td>\n",
       "    </tr>\n",
       "    <tr>\n",
       "      <th>4</th>\n",
       "      <td>[ 'antimoney ' , 'launder ' , 'counter ' , 'fi...</td>\n",
       "    </tr>\n",
       "  </tbody>\n",
       "</table>\n",
       "</div>"
      ],
      "text/plain": [
       "                                                name\n",
       "0  [ 'inform ' , 'regard ' , 'merger ' , 'navio '...\n",
       "1  [ 'announc ' , 'approv ' , 'chang ' , 'members...\n",
       "2  [ 'sfc ' , 'suspend ' , 'shiu ' , 'yau ' , 'wa...\n",
       "3  [ 'renminbi ' , 'rmb ' , 'haircut ' , 'februar...\n",
       "4  [ 'antimoney ' , 'launder ' , 'counter ' , 'fi..."
      ]
     },
     "execution_count": 54,
     "metadata": {},
     "output_type": "execute_result"
    }
   ],
   "source": [
    "X.head()"
   ]
  },
  {
   "cell_type": "code",
   "execution_count": 55,
   "metadata": {},
   "outputs": [
    {
     "data": {
      "text/plain": [
       "0            Corporate Communications\n",
       "1               Securities Settlement\n",
       "2                           Antitrust\n",
       "3               Securities Settlement\n",
       "4                     Financial Crime\n",
       "                     ...             \n",
       "47097            Corporate Governance\n",
       "47098    Monetary and Economic Policy\n",
       "47099                           Fraud\n",
       "47100                      Exemptions\n",
       "47101                Fees and Charges\n",
       "Name: cat_name, Length: 47102, dtype: object"
      ]
     },
     "execution_count": 55,
     "metadata": {},
     "output_type": "execute_result"
    }
   ],
   "source": [
    "y"
   ]
  },
  {
   "cell_type": "code",
   "execution_count": 56,
   "metadata": {},
   "outputs": [],
   "source": [
    "# train test split \n",
    "from sklearn.model_selection import train_test_split\n",
    "X_train, X_test, y_train, y_test = train_test_split(X, y, test_size=0.2, random_state=42)"
   ]
  },
  {
   "cell_type": "code",
   "execution_count": 57,
   "metadata": {},
   "outputs": [],
   "source": [
    "# multiclass classification\n",
    "from sklearn.multiclass import OneVsRestClassifier\n",
    "from sklearn.svm import LinearSVC\n",
    "from sklearn.pipeline import Pipeline\n",
    "from sklearn.feature_extraction.text import CountVectorizer\n",
    "from sklearn.feature_extraction.text import TfidfVectorizer\n",
    "\n",
    "# pipeline for multiclass classification\n",
    "text_clf = Pipeline([\n",
    "                        ('bow', CountVectorizer()),\n",
    "                        ('tfidf', TfidfVectorizer()),\n",
    "                        ('clf', OneVsRestClassifier(LinearSVC()))])\n",
    "                "
   ]
  },
  {
   "cell_type": "code",
   "execution_count": 58,
   "metadata": {},
   "outputs": [
    {
     "data": {
      "text/html": [
       "<style>#sk-container-id-2 {color: black;background-color: white;}#sk-container-id-2 pre{padding: 0;}#sk-container-id-2 div.sk-toggleable {background-color: white;}#sk-container-id-2 label.sk-toggleable__label {cursor: pointer;display: block;width: 100%;margin-bottom: 0;padding: 0.3em;box-sizing: border-box;text-align: center;}#sk-container-id-2 label.sk-toggleable__label-arrow:before {content: \"▸\";float: left;margin-right: 0.25em;color: #696969;}#sk-container-id-2 label.sk-toggleable__label-arrow:hover:before {color: black;}#sk-container-id-2 div.sk-estimator:hover label.sk-toggleable__label-arrow:before {color: black;}#sk-container-id-2 div.sk-toggleable__content {max-height: 0;max-width: 0;overflow: hidden;text-align: left;background-color: #f0f8ff;}#sk-container-id-2 div.sk-toggleable__content pre {margin: 0.2em;color: black;border-radius: 0.25em;background-color: #f0f8ff;}#sk-container-id-2 input.sk-toggleable__control:checked~div.sk-toggleable__content {max-height: 200px;max-width: 100%;overflow: auto;}#sk-container-id-2 input.sk-toggleable__control:checked~label.sk-toggleable__label-arrow:before {content: \"▾\";}#sk-container-id-2 div.sk-estimator input.sk-toggleable__control:checked~label.sk-toggleable__label {background-color: #d4ebff;}#sk-container-id-2 div.sk-label input.sk-toggleable__control:checked~label.sk-toggleable__label {background-color: #d4ebff;}#sk-container-id-2 input.sk-hidden--visually {border: 0;clip: rect(1px 1px 1px 1px);clip: rect(1px, 1px, 1px, 1px);height: 1px;margin: -1px;overflow: hidden;padding: 0;position: absolute;width: 1px;}#sk-container-id-2 div.sk-estimator {font-family: monospace;background-color: #f0f8ff;border: 1px dotted black;border-radius: 0.25em;box-sizing: border-box;margin-bottom: 0.5em;}#sk-container-id-2 div.sk-estimator:hover {background-color: #d4ebff;}#sk-container-id-2 div.sk-parallel-item::after {content: \"\";width: 100%;border-bottom: 1px solid gray;flex-grow: 1;}#sk-container-id-2 div.sk-label:hover label.sk-toggleable__label {background-color: #d4ebff;}#sk-container-id-2 div.sk-serial::before {content: \"\";position: absolute;border-left: 1px solid gray;box-sizing: border-box;top: 0;bottom: 0;left: 50%;z-index: 0;}#sk-container-id-2 div.sk-serial {display: flex;flex-direction: column;align-items: center;background-color: white;padding-right: 0.2em;padding-left: 0.2em;position: relative;}#sk-container-id-2 div.sk-item {position: relative;z-index: 1;}#sk-container-id-2 div.sk-parallel {display: flex;align-items: stretch;justify-content: center;background-color: white;position: relative;}#sk-container-id-2 div.sk-item::before, #sk-container-id-2 div.sk-parallel-item::before {content: \"\";position: absolute;border-left: 1px solid gray;box-sizing: border-box;top: 0;bottom: 0;left: 50%;z-index: -1;}#sk-container-id-2 div.sk-parallel-item {display: flex;flex-direction: column;z-index: 1;position: relative;background-color: white;}#sk-container-id-2 div.sk-parallel-item:first-child::after {align-self: flex-end;width: 50%;}#sk-container-id-2 div.sk-parallel-item:last-child::after {align-self: flex-start;width: 50%;}#sk-container-id-2 div.sk-parallel-item:only-child::after {width: 0;}#sk-container-id-2 div.sk-dashed-wrapped {border: 1px dashed gray;margin: 0 0.4em 0.5em 0.4em;box-sizing: border-box;padding-bottom: 0.4em;background-color: white;}#sk-container-id-2 div.sk-label label {font-family: monospace;font-weight: bold;display: inline-block;line-height: 1.2em;}#sk-container-id-2 div.sk-label-container {text-align: center;}#sk-container-id-2 div.sk-container {/* jupyter's `normalize.less` sets `[hidden] { display: none; }` but bootstrap.min.css set `[hidden] { display: none !important; }` so we also need the `!important` here to be able to override the default hidden behavior on the sphinx rendered scikit-learn.org. See: https://github.com/scikit-learn/scikit-learn/issues/21755 */display: inline-block !important;position: relative;}#sk-container-id-2 div.sk-text-repr-fallback {display: none;}</style><div id=\"sk-container-id-2\" class=\"sk-top-container\"><div class=\"sk-text-repr-fallback\"><pre>Pipeline(steps=[(&#x27;bow&#x27;, CountVectorizer()), (&#x27;tfidf&#x27;, TfidfTransformer()),\n",
       "                (&#x27;classifier&#x27;, MultinomialNB())])</pre><b>In a Jupyter environment, please rerun this cell to show the HTML representation or trust the notebook. <br />On GitHub, the HTML representation is unable to render, please try loading this page with nbviewer.org.</b></div><div class=\"sk-container\" hidden><div class=\"sk-item sk-dashed-wrapped\"><div class=\"sk-label-container\"><div class=\"sk-label sk-toggleable\"><input class=\"sk-toggleable__control sk-hidden--visually\" id=\"sk-estimator-id-5\" type=\"checkbox\" ><label for=\"sk-estimator-id-5\" class=\"sk-toggleable__label sk-toggleable__label-arrow\">Pipeline</label><div class=\"sk-toggleable__content\"><pre>Pipeline(steps=[(&#x27;bow&#x27;, CountVectorizer()), (&#x27;tfidf&#x27;, TfidfTransformer()),\n",
       "                (&#x27;classifier&#x27;, MultinomialNB())])</pre></div></div></div><div class=\"sk-serial\"><div class=\"sk-item\"><div class=\"sk-estimator sk-toggleable\"><input class=\"sk-toggleable__control sk-hidden--visually\" id=\"sk-estimator-id-6\" type=\"checkbox\" ><label for=\"sk-estimator-id-6\" class=\"sk-toggleable__label sk-toggleable__label-arrow\">CountVectorizer</label><div class=\"sk-toggleable__content\"><pre>CountVectorizer()</pre></div></div></div><div class=\"sk-item\"><div class=\"sk-estimator sk-toggleable\"><input class=\"sk-toggleable__control sk-hidden--visually\" id=\"sk-estimator-id-7\" type=\"checkbox\" ><label for=\"sk-estimator-id-7\" class=\"sk-toggleable__label sk-toggleable__label-arrow\">TfidfTransformer</label><div class=\"sk-toggleable__content\"><pre>TfidfTransformer()</pre></div></div></div><div class=\"sk-item\"><div class=\"sk-estimator sk-toggleable\"><input class=\"sk-toggleable__control sk-hidden--visually\" id=\"sk-estimator-id-8\" type=\"checkbox\" ><label for=\"sk-estimator-id-8\" class=\"sk-toggleable__label sk-toggleable__label-arrow\">MultinomialNB</label><div class=\"sk-toggleable__content\"><pre>MultinomialNB()</pre></div></div></div></div></div></div></div>"
      ],
      "text/plain": [
       "Pipeline(steps=[('bow', CountVectorizer()), ('tfidf', TfidfTransformer()),\n",
       "                ('classifier', MultinomialNB())])"
      ]
     },
     "execution_count": 58,
     "metadata": {},
     "output_type": "execute_result"
    }
   ],
   "source": [
    "pipeline.fit(X_train['name'],y_train)"
   ]
  },
  {
   "cell_type": "code",
   "execution_count": 59,
   "metadata": {},
   "outputs": [],
   "source": [
    "predictions = pipeline.predict(X_test['name'])"
   ]
  },
  {
   "cell_type": "code",
   "execution_count": 60,
   "metadata": {},
   "outputs": [],
   "source": [
    "from sklearn.metrics import classification_report, confusion_matrix, accuracy_score\n",
    "# print(classification_report(y_test,predictions))"
   ]
  },
  {
   "cell_type": "code",
   "execution_count": 61,
   "metadata": {},
   "outputs": [
    {
     "name": "stdout",
     "output_type": "stream",
     "text": [
      "[[ 5  0  5 ...  0  0  0]\n",
      " [ 0  0  0 ...  0  0  0]\n",
      " [ 0  0 11 ...  0  0  0]\n",
      " ...\n",
      " [ 0  0  0 ...  0  0  0]\n",
      " [ 0  0  1 ...  0  3  0]\n",
      " [ 0  0  0 ...  0  0  0]]\n"
     ]
    }
   ],
   "source": [
    "print(confusion_matrix(y_test,predictions))"
   ]
  },
  {
   "cell_type": "code",
   "execution_count": 62,
   "metadata": {},
   "outputs": [
    {
     "name": "stdout",
     "output_type": "stream",
     "text": [
      "0.09595584332873368\n"
     ]
    }
   ],
   "source": [
    "print(accuracy_score(y_test, predictions))"
   ]
  },
  {
   "cell_type": "code",
   "execution_count": null,
   "metadata": {},
   "outputs": [],
   "source": []
  }
 ],
 "metadata": {
  "kernelspec": {
   "display_name": "Python 3.8.2 64-bit",
   "language": "python",
   "name": "python3"
  },
  "language_info": {
   "codemirror_mode": {
    "name": "ipython",
    "version": 3
   },
   "file_extension": ".py",
   "mimetype": "text/x-python",
   "name": "python",
   "nbconvert_exporter": "python",
   "pygments_lexer": "ipython3",
   "version": "3.8.2"
  },
  "orig_nbformat": 4,
  "vscode": {
   "interpreter": {
    "hash": "570feb405e2e27c949193ac68f46852414290d515b0ba6e5d90d076ed2284471"
   }
  }
 },
 "nbformat": 4,
 "nbformat_minor": 2
}
