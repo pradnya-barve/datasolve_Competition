{
 "cells": [
  {
   "cell_type": "code",
   "execution_count": 3,
   "metadata": {},
   "outputs": [],
   "source": [
    "\n",
    "# importing required libraries\n",
    "import pandas as pd \n",
    "import seaborn as sns \n",
    "import matplotlib.pyplot as plt\n",
    "import numpy as np\n",
    "\n",
    "\n",
    "# nltk libraries used for NLP\n",
    "import nltk\n",
    "from nltk.corpus import stopwords\n",
    "from nltk.stem import WordNetLemmatizer\n",
    "from nltk.tokenize import word_tokenize\n",
    "# from sklearn.feature_extraction.text import CountVectorizer\n",
    "# from sklearn.feature_extraction.text import TfidfVectorizer\n",
    "# from sklearn.model_selection import train_test_split\n",
    "# from sklearn.linear_model import LogisticRegression\n",
    "# from sklearn.metrics import accuracy_score, confusion_matrix, classification_report\n",
    "# from sklearn.naive_bayes import MultinomialNB\n"
   ]
  },
  {
   "cell_type": "code",
   "execution_count": 4,
   "metadata": {},
   "outputs": [],
   "source": [
    "df = pd.read_csv('../dataset/train_cleaned3.csv')\n"
   ]
  },
  {
   "cell_type": "code",
   "execution_count": 5,
   "metadata": {},
   "outputs": [
    {
     "data": {
      "text/html": [
       "<div>\n",
       "<style scoped>\n",
       "    .dataframe tbody tr th:only-of-type {\n",
       "        vertical-align: middle;\n",
       "    }\n",
       "\n",
       "    .dataframe tbody tr th {\n",
       "        vertical-align: top;\n",
       "    }\n",
       "\n",
       "    .dataframe thead th {\n",
       "        text-align: right;\n",
       "    }\n",
       "</style>\n",
       "<table border=\"1\" class=\"dataframe\">\n",
       "  <thead>\n",
       "    <tr style=\"text-align: right;\">\n",
       "      <th></th>\n",
       "      <th>id</th>\n",
       "      <th>name</th>\n",
       "      <th>document_text</th>\n",
       "      <th>cat_name</th>\n",
       "    </tr>\n",
       "  </thead>\n",
       "  <tbody>\n",
       "    <tr>\n",
       "      <th>0</th>\n",
       "      <td>22474</td>\n",
       "      <td>[ 'inform ' , 'regard ' , 'merger ' , 'navio '...</td>\n",
       "      <td>[ 'at ' , 'special ' , 'meet ' , 'held ' , 'ma...</td>\n",
       "      <td>Corporate Communications</td>\n",
       "    </tr>\n",
       "    <tr>\n",
       "      <th>1</th>\n",
       "      <td>27460</td>\n",
       "      <td>[ 'announc ' , 'approv ' , 'chang ' , 'members...</td>\n",
       "      <td>[ 'on ' , 'april ' , ' 2 ' , '2021 ' , 'china ...</td>\n",
       "      <td>Securities Settlement</td>\n",
       "    </tr>\n",
       "    <tr>\n",
       "      <th>2</th>\n",
       "      <td>6926</td>\n",
       "      <td>[ 'sfc ' , 'suspend ' , 'shiu ' , 'yau ' , 'wa...</td>\n",
       "      <td>[ 'the ' , 'secur ' , 'futur ' , 'commiss ' , ...</td>\n",
       "      <td>Antitrust</td>\n",
       "    </tr>\n",
       "    <tr>\n",
       "      <th>3</th>\n",
       "      <td>6982</td>\n",
       "      <td>[ 'renminbi ' , 'rmb ' , 'haircut ' , 'februar...</td>\n",
       "      <td>[ 'pursuant ' , 'section ' , '262 ' , 'clear '...</td>\n",
       "      <td>Securities Settlement</td>\n",
       "    </tr>\n",
       "    <tr>\n",
       "      <th>4</th>\n",
       "      <td>5022</td>\n",
       "      <td>[ 'antimoney ' , 'launder ' , 'counter ' , 'fi...</td>\n",
       "      <td>[ 'money ' , 'launder ' , 'terror ' , 'financ ...</td>\n",
       "      <td>Financial Crime</td>\n",
       "    </tr>\n",
       "  </tbody>\n",
       "</table>\n",
       "</div>"
      ],
      "text/plain": [
       "      id                                               name  \\\n",
       "0  22474  [ 'inform ' , 'regard ' , 'merger ' , 'navio '...   \n",
       "1  27460  [ 'announc ' , 'approv ' , 'chang ' , 'members...   \n",
       "2   6926  [ 'sfc ' , 'suspend ' , 'shiu ' , 'yau ' , 'wa...   \n",
       "3   6982  [ 'renminbi ' , 'rmb ' , 'haircut ' , 'februar...   \n",
       "4   5022  [ 'antimoney ' , 'launder ' , 'counter ' , 'fi...   \n",
       "\n",
       "                                       document_text                  cat_name  \n",
       "0  [ 'at ' , 'special ' , 'meet ' , 'held ' , 'ma...  Corporate Communications  \n",
       "1  [ 'on ' , 'april ' , ' 2 ' , '2021 ' , 'china ...     Securities Settlement  \n",
       "2  [ 'the ' , 'secur ' , 'futur ' , 'commiss ' , ...                 Antitrust  \n",
       "3  [ 'pursuant ' , 'section ' , '262 ' , 'clear '...     Securities Settlement  \n",
       "4  [ 'money ' , 'launder ' , 'terror ' , 'financ ...           Financial Crime  "
      ]
     },
     "execution_count": 5,
     "metadata": {},
     "output_type": "execute_result"
    }
   ],
   "source": [
    "df.head()"
   ]
  },
  {
   "cell_type": "code",
   "execution_count": 113,
   "metadata": {},
   "outputs": [],
   "source": [
    "df['name'] = df['name'] + df['document_text']"
   ]
  },
  {
   "cell_type": "code",
   "execution_count": null,
   "metadata": {},
   "outputs": [],
   "source": []
  },
  {
   "cell_type": "code",
   "execution_count": 116,
   "metadata": {},
   "outputs": [],
   "source": [
    "X = df[['name']]\n",
    "y = df['cat_name']"
   ]
  },
  {
   "cell_type": "code",
   "execution_count": null,
   "metadata": {},
   "outputs": [],
   "source": []
  },
  {
   "cell_type": "code",
   "execution_count": 117,
   "metadata": {},
   "outputs": [
    {
     "data": {
      "text/html": [
       "<div>\n",
       "<style scoped>\n",
       "    .dataframe tbody tr th:only-of-type {\n",
       "        vertical-align: middle;\n",
       "    }\n",
       "\n",
       "    .dataframe tbody tr th {\n",
       "        vertical-align: top;\n",
       "    }\n",
       "\n",
       "    .dataframe thead th {\n",
       "        text-align: right;\n",
       "    }\n",
       "</style>\n",
       "<table border=\"1\" class=\"dataframe\">\n",
       "  <thead>\n",
       "    <tr style=\"text-align: right;\">\n",
       "      <th></th>\n",
       "      <th>name</th>\n",
       "    </tr>\n",
       "  </thead>\n",
       "  <tbody>\n",
       "    <tr>\n",
       "      <th>0</th>\n",
       "      <td>[ 'inform ' , 'regard ' , 'merger ' , 'navio '...</td>\n",
       "    </tr>\n",
       "    <tr>\n",
       "      <th>1</th>\n",
       "      <td>[ 'announc ' , 'approv ' , 'chang ' , 'members...</td>\n",
       "    </tr>\n",
       "    <tr>\n",
       "      <th>2</th>\n",
       "      <td>[ 'sfc ' , 'suspend ' , 'shiu ' , 'yau ' , 'wa...</td>\n",
       "    </tr>\n",
       "    <tr>\n",
       "      <th>3</th>\n",
       "      <td>[ 'renminbi ' , 'rmb ' , 'haircut ' , 'februar...</td>\n",
       "    </tr>\n",
       "    <tr>\n",
       "      <th>4</th>\n",
       "      <td>[ 'antimoney ' , 'launder ' , 'counter ' , 'fi...</td>\n",
       "    </tr>\n",
       "  </tbody>\n",
       "</table>\n",
       "</div>"
      ],
      "text/plain": [
       "                                                name\n",
       "0  [ 'inform ' , 'regard ' , 'merger ' , 'navio '...\n",
       "1  [ 'announc ' , 'approv ' , 'chang ' , 'members...\n",
       "2  [ 'sfc ' , 'suspend ' , 'shiu ' , 'yau ' , 'wa...\n",
       "3  [ 'renminbi ' , 'rmb ' , 'haircut ' , 'februar...\n",
       "4  [ 'antimoney ' , 'launder ' , 'counter ' , 'fi..."
      ]
     },
     "execution_count": 117,
     "metadata": {},
     "output_type": "execute_result"
    }
   ],
   "source": [
    "X.head()"
   ]
  },
  {
   "cell_type": "code",
   "execution_count": 118,
   "metadata": {},
   "outputs": [
    {
     "data": {
      "text/plain": [
       "0    Corporate Communications\n",
       "1       Securities Settlement\n",
       "2                   Antitrust\n",
       "3       Securities Settlement\n",
       "4             Financial Crime\n",
       "Name: cat_name, dtype: object"
      ]
     },
     "execution_count": 118,
     "metadata": {},
     "output_type": "execute_result"
    }
   ],
   "source": [
    "y.head()"
   ]
  },
  {
   "cell_type": "code",
   "execution_count": 133,
   "metadata": {},
   "outputs": [],
   "source": [
    "# Label encoding on target variable\n",
    "from sklearn.preprocessing import LabelEncoder\n",
    "le = LabelEncoder()\n",
    "y = le.fit_transform(y)"
   ]
  },
  {
   "cell_type": "code",
   "execution_count": 134,
   "metadata": {},
   "outputs": [
    {
     "data": {
      "text/plain": [
       "array([ 8, 47,  1, ..., 18, 13, 14])"
      ]
     },
     "execution_count": 134,
     "metadata": {},
     "output_type": "execute_result"
    }
   ],
   "source": []
  },
  {
   "cell_type": "code",
   "execution_count": 119,
   "metadata": {},
   "outputs": [
    {
     "name": "stdout",
     "output_type": "stream",
     "text": [
      "(35326, 1) (35326,)\n",
      "(11776, 1) (11776,)\n"
     ]
    }
   ],
   "source": [
    "from sklearn.model_selection import train_test_split\n",
    "X_train, X_cv, y_train, y_cv = train_test_split(X, y, test_size = 0.25, random_state = 21)\n",
    "print(X_train.shape, y_train.shape)\n",
    "print(X_cv.shape, y_cv.shape)"
   ]
  },
  {
   "cell_type": "code",
   "execution_count": 120,
   "metadata": {},
   "outputs": [],
   "source": [
    "combined_vocab = X_train['name'].tolist() + X_cv['name'].tolist()"
   ]
  },
  {
   "cell_type": "code",
   "execution_count": 122,
   "metadata": {},
   "outputs": [
    {
     "data": {
      "text/html": [
       "<style>#sk-container-id-5 {color: black;background-color: white;}#sk-container-id-5 pre{padding: 0;}#sk-container-id-5 div.sk-toggleable {background-color: white;}#sk-container-id-5 label.sk-toggleable__label {cursor: pointer;display: block;width: 100%;margin-bottom: 0;padding: 0.3em;box-sizing: border-box;text-align: center;}#sk-container-id-5 label.sk-toggleable__label-arrow:before {content: \"▸\";float: left;margin-right: 0.25em;color: #696969;}#sk-container-id-5 label.sk-toggleable__label-arrow:hover:before {color: black;}#sk-container-id-5 div.sk-estimator:hover label.sk-toggleable__label-arrow:before {color: black;}#sk-container-id-5 div.sk-toggleable__content {max-height: 0;max-width: 0;overflow: hidden;text-align: left;background-color: #f0f8ff;}#sk-container-id-5 div.sk-toggleable__content pre {margin: 0.2em;color: black;border-radius: 0.25em;background-color: #f0f8ff;}#sk-container-id-5 input.sk-toggleable__control:checked~div.sk-toggleable__content {max-height: 200px;max-width: 100%;overflow: auto;}#sk-container-id-5 input.sk-toggleable__control:checked~label.sk-toggleable__label-arrow:before {content: \"▾\";}#sk-container-id-5 div.sk-estimator input.sk-toggleable__control:checked~label.sk-toggleable__label {background-color: #d4ebff;}#sk-container-id-5 div.sk-label input.sk-toggleable__control:checked~label.sk-toggleable__label {background-color: #d4ebff;}#sk-container-id-5 input.sk-hidden--visually {border: 0;clip: rect(1px 1px 1px 1px);clip: rect(1px, 1px, 1px, 1px);height: 1px;margin: -1px;overflow: hidden;padding: 0;position: absolute;width: 1px;}#sk-container-id-5 div.sk-estimator {font-family: monospace;background-color: #f0f8ff;border: 1px dotted black;border-radius: 0.25em;box-sizing: border-box;margin-bottom: 0.5em;}#sk-container-id-5 div.sk-estimator:hover {background-color: #d4ebff;}#sk-container-id-5 div.sk-parallel-item::after {content: \"\";width: 100%;border-bottom: 1px solid gray;flex-grow: 1;}#sk-container-id-5 div.sk-label:hover label.sk-toggleable__label {background-color: #d4ebff;}#sk-container-id-5 div.sk-serial::before {content: \"\";position: absolute;border-left: 1px solid gray;box-sizing: border-box;top: 0;bottom: 0;left: 50%;z-index: 0;}#sk-container-id-5 div.sk-serial {display: flex;flex-direction: column;align-items: center;background-color: white;padding-right: 0.2em;padding-left: 0.2em;position: relative;}#sk-container-id-5 div.sk-item {position: relative;z-index: 1;}#sk-container-id-5 div.sk-parallel {display: flex;align-items: stretch;justify-content: center;background-color: white;position: relative;}#sk-container-id-5 div.sk-item::before, #sk-container-id-5 div.sk-parallel-item::before {content: \"\";position: absolute;border-left: 1px solid gray;box-sizing: border-box;top: 0;bottom: 0;left: 50%;z-index: -1;}#sk-container-id-5 div.sk-parallel-item {display: flex;flex-direction: column;z-index: 1;position: relative;background-color: white;}#sk-container-id-5 div.sk-parallel-item:first-child::after {align-self: flex-end;width: 50%;}#sk-container-id-5 div.sk-parallel-item:last-child::after {align-self: flex-start;width: 50%;}#sk-container-id-5 div.sk-parallel-item:only-child::after {width: 0;}#sk-container-id-5 div.sk-dashed-wrapped {border: 1px dashed gray;margin: 0 0.4em 0.5em 0.4em;box-sizing: border-box;padding-bottom: 0.4em;background-color: white;}#sk-container-id-5 div.sk-label label {font-family: monospace;font-weight: bold;display: inline-block;line-height: 1.2em;}#sk-container-id-5 div.sk-label-container {text-align: center;}#sk-container-id-5 div.sk-container {/* jupyter's `normalize.less` sets `[hidden] { display: none; }` but bootstrap.min.css set `[hidden] { display: none !important; }` so we also need the `!important` here to be able to override the default hidden behavior on the sphinx rendered scikit-learn.org. See: https://github.com/scikit-learn/scikit-learn/issues/21755 */display: inline-block !important;position: relative;}#sk-container-id-5 div.sk-text-repr-fallback {display: none;}</style><div id=\"sk-container-id-5\" class=\"sk-top-container\"><div class=\"sk-text-repr-fallback\"><pre>TfidfVectorizer(max_features=1000, min_df=10, ngram_range=(1, 3))</pre><b>In a Jupyter environment, please rerun this cell to show the HTML representation or trust the notebook. <br />On GitHub, the HTML representation is unable to render, please try loading this page with nbviewer.org.</b></div><div class=\"sk-container\" hidden><div class=\"sk-item\"><div class=\"sk-estimator sk-toggleable\"><input class=\"sk-toggleable__control sk-hidden--visually\" id=\"sk-estimator-id-9\" type=\"checkbox\" checked><label for=\"sk-estimator-id-9\" class=\"sk-toggleable__label sk-toggleable__label-arrow\">TfidfVectorizer</label><div class=\"sk-toggleable__content\"><pre>TfidfVectorizer(max_features=1000, min_df=10, ngram_range=(1, 3))</pre></div></div></div></div></div>"
      ],
      "text/plain": [
       "TfidfVectorizer(max_features=1000, min_df=10, ngram_range=(1, 3))"
      ]
     },
     "execution_count": 122,
     "metadata": {},
     "output_type": "execute_result"
    }
   ],
   "source": [
    "from sklearn.feature_extraction.text import TfidfVectorizer\n",
    "tfidf = TfidfVectorizer(min_df = 10, max_features = 1000, ngram_range = (1, 3))\n",
    "tfidf.fit(combined_vocab)"
   ]
  },
  {
   "cell_type": "code",
   "execution_count": 123,
   "metadata": {},
   "outputs": [],
   "source": [
    "X_train_tfidf = tfidf.transform(X_train['name'])\n",
    "X_cv_tfidf = tfidf.transform(X_cv['name'])\n"
   ]
  },
  {
   "cell_type": "code",
   "execution_count": 125,
   "metadata": {},
   "outputs": [
    {
     "name": "stdout",
     "output_type": "stream",
     "text": [
      "(35326, 1000) (35326,)\n",
      "(11776, 1000) (11776,)\n"
     ]
    }
   ],
   "source": [
    "print(X_train_tfidf.shape, y_train.shape)\n",
    "print(X_cv_tfidf.shape, y_cv.shape)"
   ]
  },
  {
   "cell_type": "code",
   "execution_count": 132,
   "metadata": {},
   "outputs": [],
   "source": [
    "# y_cv"
   ]
  },
  {
   "cell_type": "code",
   "execution_count": 126,
   "metadata": {},
   "outputs": [],
   "source": [
    "from sklearn.multiclass import OneVsRestClassifier\n",
    "from sklearn.linear_model import LogisticRegression"
   ]
  },
  {
   "cell_type": "code",
   "execution_count": 127,
   "metadata": {},
   "outputs": [
    {
     "data": {
      "text/html": [
       "<style>#sk-container-id-6 {color: black;background-color: white;}#sk-container-id-6 pre{padding: 0;}#sk-container-id-6 div.sk-toggleable {background-color: white;}#sk-container-id-6 label.sk-toggleable__label {cursor: pointer;display: block;width: 100%;margin-bottom: 0;padding: 0.3em;box-sizing: border-box;text-align: center;}#sk-container-id-6 label.sk-toggleable__label-arrow:before {content: \"▸\";float: left;margin-right: 0.25em;color: #696969;}#sk-container-id-6 label.sk-toggleable__label-arrow:hover:before {color: black;}#sk-container-id-6 div.sk-estimator:hover label.sk-toggleable__label-arrow:before {color: black;}#sk-container-id-6 div.sk-toggleable__content {max-height: 0;max-width: 0;overflow: hidden;text-align: left;background-color: #f0f8ff;}#sk-container-id-6 div.sk-toggleable__content pre {margin: 0.2em;color: black;border-radius: 0.25em;background-color: #f0f8ff;}#sk-container-id-6 input.sk-toggleable__control:checked~div.sk-toggleable__content {max-height: 200px;max-width: 100%;overflow: auto;}#sk-container-id-6 input.sk-toggleable__control:checked~label.sk-toggleable__label-arrow:before {content: \"▾\";}#sk-container-id-6 div.sk-estimator input.sk-toggleable__control:checked~label.sk-toggleable__label {background-color: #d4ebff;}#sk-container-id-6 div.sk-label input.sk-toggleable__control:checked~label.sk-toggleable__label {background-color: #d4ebff;}#sk-container-id-6 input.sk-hidden--visually {border: 0;clip: rect(1px 1px 1px 1px);clip: rect(1px, 1px, 1px, 1px);height: 1px;margin: -1px;overflow: hidden;padding: 0;position: absolute;width: 1px;}#sk-container-id-6 div.sk-estimator {font-family: monospace;background-color: #f0f8ff;border: 1px dotted black;border-radius: 0.25em;box-sizing: border-box;margin-bottom: 0.5em;}#sk-container-id-6 div.sk-estimator:hover {background-color: #d4ebff;}#sk-container-id-6 div.sk-parallel-item::after {content: \"\";width: 100%;border-bottom: 1px solid gray;flex-grow: 1;}#sk-container-id-6 div.sk-label:hover label.sk-toggleable__label {background-color: #d4ebff;}#sk-container-id-6 div.sk-serial::before {content: \"\";position: absolute;border-left: 1px solid gray;box-sizing: border-box;top: 0;bottom: 0;left: 50%;z-index: 0;}#sk-container-id-6 div.sk-serial {display: flex;flex-direction: column;align-items: center;background-color: white;padding-right: 0.2em;padding-left: 0.2em;position: relative;}#sk-container-id-6 div.sk-item {position: relative;z-index: 1;}#sk-container-id-6 div.sk-parallel {display: flex;align-items: stretch;justify-content: center;background-color: white;position: relative;}#sk-container-id-6 div.sk-item::before, #sk-container-id-6 div.sk-parallel-item::before {content: \"\";position: absolute;border-left: 1px solid gray;box-sizing: border-box;top: 0;bottom: 0;left: 50%;z-index: -1;}#sk-container-id-6 div.sk-parallel-item {display: flex;flex-direction: column;z-index: 1;position: relative;background-color: white;}#sk-container-id-6 div.sk-parallel-item:first-child::after {align-self: flex-end;width: 50%;}#sk-container-id-6 div.sk-parallel-item:last-child::after {align-self: flex-start;width: 50%;}#sk-container-id-6 div.sk-parallel-item:only-child::after {width: 0;}#sk-container-id-6 div.sk-dashed-wrapped {border: 1px dashed gray;margin: 0 0.4em 0.5em 0.4em;box-sizing: border-box;padding-bottom: 0.4em;background-color: white;}#sk-container-id-6 div.sk-label label {font-family: monospace;font-weight: bold;display: inline-block;line-height: 1.2em;}#sk-container-id-6 div.sk-label-container {text-align: center;}#sk-container-id-6 div.sk-container {/* jupyter's `normalize.less` sets `[hidden] { display: none; }` but bootstrap.min.css set `[hidden] { display: none !important; }` so we also need the `!important` here to be able to override the default hidden behavior on the sphinx rendered scikit-learn.org. See: https://github.com/scikit-learn/scikit-learn/issues/21755 */display: inline-block !important;position: relative;}#sk-container-id-6 div.sk-text-repr-fallback {display: none;}</style><div id=\"sk-container-id-6\" class=\"sk-top-container\"><div class=\"sk-text-repr-fallback\"><pre>OneVsRestClassifier(estimator=LogisticRegression())</pre><b>In a Jupyter environment, please rerun this cell to show the HTML representation or trust the notebook. <br />On GitHub, the HTML representation is unable to render, please try loading this page with nbviewer.org.</b></div><div class=\"sk-container\" hidden><div class=\"sk-item sk-dashed-wrapped\"><div class=\"sk-label-container\"><div class=\"sk-label sk-toggleable\"><input class=\"sk-toggleable__control sk-hidden--visually\" id=\"sk-estimator-id-10\" type=\"checkbox\" ><label for=\"sk-estimator-id-10\" class=\"sk-toggleable__label sk-toggleable__label-arrow\">OneVsRestClassifier</label><div class=\"sk-toggleable__content\"><pre>OneVsRestClassifier(estimator=LogisticRegression())</pre></div></div></div><div class=\"sk-parallel\"><div class=\"sk-parallel-item\"><div class=\"sk-item\"><div class=\"sk-label-container\"><div class=\"sk-label sk-toggleable\"><input class=\"sk-toggleable__control sk-hidden--visually\" id=\"sk-estimator-id-11\" type=\"checkbox\" ><label for=\"sk-estimator-id-11\" class=\"sk-toggleable__label sk-toggleable__label-arrow\">estimator: LogisticRegression</label><div class=\"sk-toggleable__content\"><pre>LogisticRegression()</pre></div></div></div><div class=\"sk-serial\"><div class=\"sk-item\"><div class=\"sk-estimator sk-toggleable\"><input class=\"sk-toggleable__control sk-hidden--visually\" id=\"sk-estimator-id-12\" type=\"checkbox\" ><label for=\"sk-estimator-id-12\" class=\"sk-toggleable__label sk-toggleable__label-arrow\">LogisticRegression</label><div class=\"sk-toggleable__content\"><pre>LogisticRegression()</pre></div></div></div></div></div></div></div></div></div></div>"
      ],
      "text/plain": [
       "OneVsRestClassifier(estimator=LogisticRegression())"
      ]
     },
     "execution_count": 127,
     "metadata": {},
     "output_type": "execute_result"
    }
   ],
   "source": [
    "# instantiate OneVsRestClassifier\n",
    "clf = OneVsRestClassifier(LogisticRegression())\n",
    "clf.fit(X_train_tfidf, y_train)"
   ]
  },
  {
   "cell_type": "code",
   "execution_count": 128,
   "metadata": {},
   "outputs": [],
   "source": [
    "prediction = clf.predict(X_cv_tfidf)"
   ]
  },
  {
   "cell_type": "code",
   "execution_count": 129,
   "metadata": {},
   "outputs": [
    {
     "data": {
      "text/plain": [
       "array(['Trade Pricing', 'Corporate Governance', 'Securities Clearing',\n",
       "       ..., 'Forms', 'Legal Proceedings', 'Securities Sales'],\n",
       "      dtype='<U40')"
      ]
     },
     "execution_count": 129,
     "metadata": {},
     "output_type": "execute_result"
    }
   ],
   "source": [
    "prediction"
   ]
  },
  {
   "cell_type": "code",
   "execution_count": null,
   "metadata": {},
   "outputs": [],
   "source": []
  },
  {
   "cell_type": "code",
   "execution_count": 135,
   "metadata": {},
   "outputs": [
    {
     "data": {
      "text/html": [
       "<div>\n",
       "<style scoped>\n",
       "    .dataframe tbody tr th:only-of-type {\n",
       "        vertical-align: middle;\n",
       "    }\n",
       "\n",
       "    .dataframe tbody tr th {\n",
       "        vertical-align: top;\n",
       "    }\n",
       "\n",
       "    .dataframe thead th {\n",
       "        text-align: right;\n",
       "    }\n",
       "</style>\n",
       "<table border=\"1\" class=\"dataframe\">\n",
       "  <thead>\n",
       "    <tr style=\"text-align: right;\">\n",
       "      <th></th>\n",
       "      <th>id</th>\n",
       "      <th>name</th>\n",
       "      <th>document_text</th>\n",
       "      <th>cat_name</th>\n",
       "      <th>cat_len</th>\n",
       "    </tr>\n",
       "  </thead>\n",
       "  <tbody>\n",
       "    <tr>\n",
       "      <th>0</th>\n",
       "      <td>22474</td>\n",
       "      <td>[ 'inform ' , 'regard ' , 'merger ' , 'navio '...</td>\n",
       "      <td>[ 'at ' , 'special ' , 'meet ' , 'held ' , 'ma...</td>\n",
       "      <td>Corporate Communications</td>\n",
       "      <td>2</td>\n",
       "    </tr>\n",
       "    <tr>\n",
       "      <th>1</th>\n",
       "      <td>27460</td>\n",
       "      <td>[ 'announc ' , 'approv ' , 'chang ' , 'members...</td>\n",
       "      <td>[ 'on ' , 'april ' , ' 2 ' , '2021 ' , 'china ...</td>\n",
       "      <td>Securities Settlement</td>\n",
       "      <td>2</td>\n",
       "    </tr>\n",
       "    <tr>\n",
       "      <th>2</th>\n",
       "      <td>6926</td>\n",
       "      <td>[ 'sfc ' , 'suspend ' , 'shiu ' , 'yau ' , 'wa...</td>\n",
       "      <td>[ 'the ' , 'secur ' , 'futur ' , 'commiss ' , ...</td>\n",
       "      <td>Antitrust</td>\n",
       "      <td>1</td>\n",
       "    </tr>\n",
       "    <tr>\n",
       "      <th>3</th>\n",
       "      <td>6982</td>\n",
       "      <td>[ 'renminbi ' , 'rmb ' , 'haircut ' , 'februar...</td>\n",
       "      <td>[ 'pursuant ' , 'section ' , '262 ' , 'clear '...</td>\n",
       "      <td>Securities Settlement</td>\n",
       "      <td>2</td>\n",
       "    </tr>\n",
       "    <tr>\n",
       "      <th>4</th>\n",
       "      <td>5022</td>\n",
       "      <td>[ 'antimoney ' , 'launder ' , 'counter ' , 'fi...</td>\n",
       "      <td>[ 'money ' , 'launder ' , 'terror ' , 'financ ...</td>\n",
       "      <td>Financial Crime</td>\n",
       "      <td>2</td>\n",
       "    </tr>\n",
       "  </tbody>\n",
       "</table>\n",
       "</div>"
      ],
      "text/plain": [
       "      id                                               name  \\\n",
       "0  22474  [ 'inform ' , 'regard ' , 'merger ' , 'navio '...   \n",
       "1  27460  [ 'announc ' , 'approv ' , 'chang ' , 'members...   \n",
       "2   6926  [ 'sfc ' , 'suspend ' , 'shiu ' , 'yau ' , 'wa...   \n",
       "3   6982  [ 'renminbi ' , 'rmb ' , 'haircut ' , 'februar...   \n",
       "4   5022  [ 'antimoney ' , 'launder ' , 'counter ' , 'fi...   \n",
       "\n",
       "                                       document_text  \\\n",
       "0  [ 'at ' , 'special ' , 'meet ' , 'held ' , 'ma...   \n",
       "1  [ 'on ' , 'april ' , ' 2 ' , '2021 ' , 'china ...   \n",
       "2  [ 'the ' , 'secur ' , 'futur ' , 'commiss ' , ...   \n",
       "3  [ 'pursuant ' , 'section ' , '262 ' , 'clear '...   \n",
       "4  [ 'money ' , 'launder ' , 'terror ' , 'financ ...   \n",
       "\n",
       "                   cat_name  cat_len  \n",
       "0  Corporate Communications        2  \n",
       "1     Securities Settlement        2  \n",
       "2                 Antitrust        1  \n",
       "3     Securities Settlement        2  \n",
       "4           Financial Crime        2  "
      ]
     },
     "execution_count": 135,
     "metadata": {},
     "output_type": "execute_result"
    }
   ],
   "source": [
    "df.head()"
   ]
  },
  {
   "cell_type": "code",
   "execution_count": 136,
   "metadata": {},
   "outputs": [],
   "source": [
    "final_result_with_id_df = pd.DataFrame(df['id'],prediction)"
   ]
  },
  {
   "cell_type": "code",
   "execution_count": 139,
   "metadata": {},
   "outputs": [
    {
     "data": {
      "text/plain": [
       "0        22474\n",
       "1        27460\n",
       "2         6926\n",
       "3         6982\n",
       "4         5022\n",
       "         ...  \n",
       "47097    14825\n",
       "47098     6875\n",
       "47099     8901\n",
       "47100     6285\n",
       "47101    16675\n",
       "Name: id, Length: 47102, dtype: int64"
      ]
     },
     "execution_count": 139,
     "metadata": {},
     "output_type": "execute_result"
    }
   ],
   "source": [
    "y_cv"
   ]
  },
  {
   "cell_type": "code",
   "execution_count": 144,
   "metadata": {},
   "outputs": [],
   "source": [
    "index = list(y_cv.index)"
   ]
  },
  {
   "cell_type": "code",
   "execution_count": 147,
   "metadata": {},
   "outputs": [],
   "source": [
    "d = pd.DataFrame({'id':index,'y_test':list(y_cv),'prediction':list(prediction)})"
   ]
  },
  {
   "cell_type": "code",
   "execution_count": 155,
   "metadata": {},
   "outputs": [
    {
     "data": {
      "text/html": [
       "<div>\n",
       "<style scoped>\n",
       "    .dataframe tbody tr th:only-of-type {\n",
       "        vertical-align: middle;\n",
       "    }\n",
       "\n",
       "    .dataframe tbody tr th {\n",
       "        vertical-align: top;\n",
       "    }\n",
       "\n",
       "    .dataframe thead th {\n",
       "        text-align: right;\n",
       "    }\n",
       "</style>\n",
       "<table border=\"1\" class=\"dataframe\">\n",
       "  <thead>\n",
       "    <tr style=\"text-align: right;\">\n",
       "      <th></th>\n",
       "      <th>id</th>\n",
       "      <th>y_test</th>\n",
       "      <th>prediction</th>\n",
       "    </tr>\n",
       "  </thead>\n",
       "  <tbody>\n",
       "    <tr>\n",
       "      <th>0</th>\n",
       "      <td>1041</td>\n",
       "      <td>Securities Sales</td>\n",
       "      <td>Trade Pricing</td>\n",
       "    </tr>\n",
       "    <tr>\n",
       "      <th>1</th>\n",
       "      <td>26450</td>\n",
       "      <td>Fees and Charges</td>\n",
       "      <td>Corporate Governance</td>\n",
       "    </tr>\n",
       "    <tr>\n",
       "      <th>2</th>\n",
       "      <td>8478</td>\n",
       "      <td>Market Risk</td>\n",
       "      <td>Securities Clearing</td>\n",
       "    </tr>\n",
       "    <tr>\n",
       "      <th>3</th>\n",
       "      <td>43967</td>\n",
       "      <td>Compliance Management</td>\n",
       "      <td>Exemptions</td>\n",
       "    </tr>\n",
       "    <tr>\n",
       "      <th>4</th>\n",
       "      <td>19419</td>\n",
       "      <td>Market Risk</td>\n",
       "      <td>Compliance Management</td>\n",
       "    </tr>\n",
       "    <tr>\n",
       "      <th>5</th>\n",
       "      <td>38357</td>\n",
       "      <td>Payments and Settlements</td>\n",
       "      <td>Regulatory Actions</td>\n",
       "    </tr>\n",
       "    <tr>\n",
       "      <th>6</th>\n",
       "      <td>26691</td>\n",
       "      <td>Natural Disasters</td>\n",
       "      <td>Powers and Duties</td>\n",
       "    </tr>\n",
       "    <tr>\n",
       "      <th>7</th>\n",
       "      <td>19570</td>\n",
       "      <td>Monetary and Economic Policy</td>\n",
       "      <td>Natural Disasters</td>\n",
       "    </tr>\n",
       "    <tr>\n",
       "      <th>8</th>\n",
       "      <td>9369</td>\n",
       "      <td>Regulatory Actions</td>\n",
       "      <td>Money Services</td>\n",
       "    </tr>\n",
       "    <tr>\n",
       "      <th>9</th>\n",
       "      <td>1524</td>\n",
       "      <td>Fees and Charges</td>\n",
       "      <td>Fees and Charges</td>\n",
       "    </tr>\n",
       "    <tr>\n",
       "      <th>10</th>\n",
       "      <td>4036</td>\n",
       "      <td>Securities Issuing</td>\n",
       "      <td>Banking</td>\n",
       "    </tr>\n",
       "    <tr>\n",
       "      <th>11</th>\n",
       "      <td>38868</td>\n",
       "      <td>Legal Proceedings</td>\n",
       "      <td>Natural Disasters</td>\n",
       "    </tr>\n",
       "    <tr>\n",
       "      <th>12</th>\n",
       "      <td>2963</td>\n",
       "      <td>Financial Accounting</td>\n",
       "      <td>Natural Disasters</td>\n",
       "    </tr>\n",
       "    <tr>\n",
       "      <th>13</th>\n",
       "      <td>11279</td>\n",
       "      <td>Securities Settlement</td>\n",
       "      <td>Regulatory Actions</td>\n",
       "    </tr>\n",
       "    <tr>\n",
       "      <th>14</th>\n",
       "      <td>19171</td>\n",
       "      <td>Regulatory Actions</td>\n",
       "      <td>Regulatory Actions</td>\n",
       "    </tr>\n",
       "    <tr>\n",
       "      <th>15</th>\n",
       "      <td>45125</td>\n",
       "      <td>Trade Settlement</td>\n",
       "      <td>Securities Clearing</td>\n",
       "    </tr>\n",
       "    <tr>\n",
       "      <th>16</th>\n",
       "      <td>18457</td>\n",
       "      <td>Consumer protection</td>\n",
       "      <td>Consumer protection</td>\n",
       "    </tr>\n",
       "    <tr>\n",
       "      <th>17</th>\n",
       "      <td>35494</td>\n",
       "      <td>Required Disclosures</td>\n",
       "      <td>Regulatory Reporting</td>\n",
       "    </tr>\n",
       "    <tr>\n",
       "      <th>18</th>\n",
       "      <td>24941</td>\n",
       "      <td>Compliance Management</td>\n",
       "      <td>Fees and Charges</td>\n",
       "    </tr>\n",
       "    <tr>\n",
       "      <th>19</th>\n",
       "      <td>25128</td>\n",
       "      <td>Financial Crime</td>\n",
       "      <td>Money-Laundering and Terrorist Financing</td>\n",
       "    </tr>\n",
       "    <tr>\n",
       "      <th>20</th>\n",
       "      <td>27860</td>\n",
       "      <td>Natural Disasters</td>\n",
       "      <td>Compliance Management</td>\n",
       "    </tr>\n",
       "    <tr>\n",
       "      <th>21</th>\n",
       "      <td>4180</td>\n",
       "      <td>Accounting and Finance</td>\n",
       "      <td>Legal Proceedings</td>\n",
       "    </tr>\n",
       "    <tr>\n",
       "      <th>22</th>\n",
       "      <td>33011</td>\n",
       "      <td>Banking</td>\n",
       "      <td>Monetary and Economic Policy</td>\n",
       "    </tr>\n",
       "    <tr>\n",
       "      <th>23</th>\n",
       "      <td>33236</td>\n",
       "      <td>Broker Dealer</td>\n",
       "      <td>Broker Dealer</td>\n",
       "    </tr>\n",
       "    <tr>\n",
       "      <th>24</th>\n",
       "      <td>44599</td>\n",
       "      <td>Securities Sales</td>\n",
       "      <td>Securities Sales</td>\n",
       "    </tr>\n",
       "    <tr>\n",
       "      <th>25</th>\n",
       "      <td>29806</td>\n",
       "      <td>Securities Sales</td>\n",
       "      <td>Listing</td>\n",
       "    </tr>\n",
       "    <tr>\n",
       "      <th>26</th>\n",
       "      <td>32828</td>\n",
       "      <td>Antitrust</td>\n",
       "      <td>Accounting and Finance</td>\n",
       "    </tr>\n",
       "    <tr>\n",
       "      <th>27</th>\n",
       "      <td>33635</td>\n",
       "      <td>Powers and Duties</td>\n",
       "      <td>Securities Sales</td>\n",
       "    </tr>\n",
       "    <tr>\n",
       "      <th>28</th>\n",
       "      <td>13595</td>\n",
       "      <td>Regulatory Actions</td>\n",
       "      <td>Regulatory Actions</td>\n",
       "    </tr>\n",
       "    <tr>\n",
       "      <th>29</th>\n",
       "      <td>4489</td>\n",
       "      <td>Commodities Trading</td>\n",
       "      <td>Examinations</td>\n",
       "    </tr>\n",
       "    <tr>\n",
       "      <th>30</th>\n",
       "      <td>16020</td>\n",
       "      <td>Compliance Management</td>\n",
       "      <td>Insurance</td>\n",
       "    </tr>\n",
       "    <tr>\n",
       "      <th>31</th>\n",
       "      <td>44483</td>\n",
       "      <td>Legal Proceedings</td>\n",
       "      <td>Fraud</td>\n",
       "    </tr>\n",
       "    <tr>\n",
       "      <th>32</th>\n",
       "      <td>23428</td>\n",
       "      <td>Regulatory Reporting</td>\n",
       "      <td>Insurance</td>\n",
       "    </tr>\n",
       "    <tr>\n",
       "      <th>33</th>\n",
       "      <td>13487</td>\n",
       "      <td>Securities Issuing</td>\n",
       "      <td>Financial Crime</td>\n",
       "    </tr>\n",
       "    <tr>\n",
       "      <th>34</th>\n",
       "      <td>30229</td>\n",
       "      <td>Regulatory Actions</td>\n",
       "      <td>Securities Sales</td>\n",
       "    </tr>\n",
       "    <tr>\n",
       "      <th>35</th>\n",
       "      <td>2918</td>\n",
       "      <td>Financial Crime</td>\n",
       "      <td>Risk Management</td>\n",
       "    </tr>\n",
       "    <tr>\n",
       "      <th>36</th>\n",
       "      <td>39349</td>\n",
       "      <td>Securities Sales</td>\n",
       "      <td>Securities Issuing</td>\n",
       "    </tr>\n",
       "    <tr>\n",
       "      <th>37</th>\n",
       "      <td>895</td>\n",
       "      <td>Trade Pricing</td>\n",
       "      <td>Securities Settlement</td>\n",
       "    </tr>\n",
       "    <tr>\n",
       "      <th>38</th>\n",
       "      <td>6017</td>\n",
       "      <td>Market Risk</td>\n",
       "      <td>Commodities Trading</td>\n",
       "    </tr>\n",
       "    <tr>\n",
       "      <th>39</th>\n",
       "      <td>33139</td>\n",
       "      <td>Securities Clearing</td>\n",
       "      <td>Securities Clearing</td>\n",
       "    </tr>\n",
       "    <tr>\n",
       "      <th>40</th>\n",
       "      <td>16451</td>\n",
       "      <td>Securities Sales</td>\n",
       "      <td>Trade Pricing</td>\n",
       "    </tr>\n",
       "    <tr>\n",
       "      <th>41</th>\n",
       "      <td>8120</td>\n",
       "      <td>Trade Settlement</td>\n",
       "      <td>Securities Settlement</td>\n",
       "    </tr>\n",
       "    <tr>\n",
       "      <th>42</th>\n",
       "      <td>22366</td>\n",
       "      <td>Regulatory Actions</td>\n",
       "      <td>Legal Proceedings</td>\n",
       "    </tr>\n",
       "    <tr>\n",
       "      <th>43</th>\n",
       "      <td>27693</td>\n",
       "      <td>Securities Clearing</td>\n",
       "      <td>Payments and Settlements</td>\n",
       "    </tr>\n",
       "    <tr>\n",
       "      <th>44</th>\n",
       "      <td>35820</td>\n",
       "      <td>Examinations</td>\n",
       "      <td>Licensure and certification</td>\n",
       "    </tr>\n",
       "    <tr>\n",
       "      <th>45</th>\n",
       "      <td>37294</td>\n",
       "      <td>Market Abuse</td>\n",
       "      <td>Insurance</td>\n",
       "    </tr>\n",
       "    <tr>\n",
       "      <th>46</th>\n",
       "      <td>43793</td>\n",
       "      <td>Contract Provisions</td>\n",
       "      <td>Commodities Trading</td>\n",
       "    </tr>\n",
       "    <tr>\n",
       "      <th>47</th>\n",
       "      <td>23992</td>\n",
       "      <td>Information Filing</td>\n",
       "      <td>Licensing</td>\n",
       "    </tr>\n",
       "    <tr>\n",
       "      <th>48</th>\n",
       "      <td>27335</td>\n",
       "      <td>Records Maintenance</td>\n",
       "      <td>Records Maintenance</td>\n",
       "    </tr>\n",
       "    <tr>\n",
       "      <th>49</th>\n",
       "      <td>8834</td>\n",
       "      <td>Licensure and certification</td>\n",
       "      <td>Fees and Charges</td>\n",
       "    </tr>\n",
       "  </tbody>\n",
       "</table>\n",
       "</div>"
      ],
      "text/plain": [
       "       id                        y_test  \\\n",
       "0    1041              Securities Sales   \n",
       "1   26450              Fees and Charges   \n",
       "2    8478                   Market Risk   \n",
       "3   43967         Compliance Management   \n",
       "4   19419                   Market Risk   \n",
       "5   38357      Payments and Settlements   \n",
       "6   26691             Natural Disasters   \n",
       "7   19570  Monetary and Economic Policy   \n",
       "8    9369            Regulatory Actions   \n",
       "9    1524              Fees and Charges   \n",
       "10   4036            Securities Issuing   \n",
       "11  38868             Legal Proceedings   \n",
       "12   2963          Financial Accounting   \n",
       "13  11279         Securities Settlement   \n",
       "14  19171            Regulatory Actions   \n",
       "15  45125              Trade Settlement   \n",
       "16  18457           Consumer protection   \n",
       "17  35494          Required Disclosures   \n",
       "18  24941         Compliance Management   \n",
       "19  25128               Financial Crime   \n",
       "20  27860             Natural Disasters   \n",
       "21   4180        Accounting and Finance   \n",
       "22  33011                       Banking   \n",
       "23  33236                 Broker Dealer   \n",
       "24  44599              Securities Sales   \n",
       "25  29806              Securities Sales   \n",
       "26  32828                     Antitrust   \n",
       "27  33635             Powers and Duties   \n",
       "28  13595            Regulatory Actions   \n",
       "29   4489           Commodities Trading   \n",
       "30  16020         Compliance Management   \n",
       "31  44483             Legal Proceedings   \n",
       "32  23428          Regulatory Reporting   \n",
       "33  13487            Securities Issuing   \n",
       "34  30229            Regulatory Actions   \n",
       "35   2918               Financial Crime   \n",
       "36  39349              Securities Sales   \n",
       "37    895                 Trade Pricing   \n",
       "38   6017                   Market Risk   \n",
       "39  33139           Securities Clearing   \n",
       "40  16451              Securities Sales   \n",
       "41   8120              Trade Settlement   \n",
       "42  22366            Regulatory Actions   \n",
       "43  27693           Securities Clearing   \n",
       "44  35820                  Examinations   \n",
       "45  37294                  Market Abuse   \n",
       "46  43793           Contract Provisions   \n",
       "47  23992            Information Filing   \n",
       "48  27335           Records Maintenance   \n",
       "49   8834   Licensure and certification   \n",
       "\n",
       "                                  prediction  \n",
       "0                              Trade Pricing  \n",
       "1                       Corporate Governance  \n",
       "2                        Securities Clearing  \n",
       "3                                 Exemptions  \n",
       "4                      Compliance Management  \n",
       "5                         Regulatory Actions  \n",
       "6                          Powers and Duties  \n",
       "7                          Natural Disasters  \n",
       "8                             Money Services  \n",
       "9                           Fees and Charges  \n",
       "10                                   Banking  \n",
       "11                         Natural Disasters  \n",
       "12                         Natural Disasters  \n",
       "13                        Regulatory Actions  \n",
       "14                        Regulatory Actions  \n",
       "15                       Securities Clearing  \n",
       "16                       Consumer protection  \n",
       "17                      Regulatory Reporting  \n",
       "18                          Fees and Charges  \n",
       "19  Money-Laundering and Terrorist Financing  \n",
       "20                     Compliance Management  \n",
       "21                         Legal Proceedings  \n",
       "22              Monetary and Economic Policy  \n",
       "23                             Broker Dealer  \n",
       "24                          Securities Sales  \n",
       "25                                   Listing  \n",
       "26                    Accounting and Finance  \n",
       "27                          Securities Sales  \n",
       "28                        Regulatory Actions  \n",
       "29                              Examinations  \n",
       "30                                 Insurance  \n",
       "31                                     Fraud  \n",
       "32                                 Insurance  \n",
       "33                           Financial Crime  \n",
       "34                          Securities Sales  \n",
       "35                           Risk Management  \n",
       "36                        Securities Issuing  \n",
       "37                     Securities Settlement  \n",
       "38                       Commodities Trading  \n",
       "39                       Securities Clearing  \n",
       "40                             Trade Pricing  \n",
       "41                     Securities Settlement  \n",
       "42                         Legal Proceedings  \n",
       "43                  Payments and Settlements  \n",
       "44               Licensure and certification  \n",
       "45                                 Insurance  \n",
       "46                       Commodities Trading  \n",
       "47                                 Licensing  \n",
       "48                       Records Maintenance  \n",
       "49                          Fees and Charges  "
      ]
     },
     "execution_count": 155,
     "metadata": {},
     "output_type": "execute_result"
    }
   ],
   "source": [
    "d.head(50)"
   ]
  },
  {
   "cell_type": "code",
   "execution_count": 154,
   "metadata": {},
   "outputs": [
    {
     "ename": "ValueError",
     "evalue": "Item wrong length 1 instead of 47102.",
     "output_type": "error",
     "traceback": [
      "\u001b[1;31m---------------------------------------------------------------------------\u001b[0m",
      "\u001b[1;31mValueError\u001b[0m                                Traceback (most recent call last)",
      "\u001b[1;32m~\\AppData\\Local\\Temp/ipykernel_3944/2086337040.py\u001b[0m in \u001b[0;36m<module>\u001b[1;34m\u001b[0m\n\u001b[1;32m----> 1\u001b[1;33m \u001b[0mdf\u001b[0m\u001b[1;33m[\u001b[0m\u001b[1;33m[\u001b[0m\u001b[1;34m'y_test'\u001b[0m\u001b[1;33m==\u001b[0m\u001b[1;34m'prediction'\u001b[0m\u001b[1;33m]\u001b[0m\u001b[1;33m]\u001b[0m\u001b[1;33m\u001b[0m\u001b[1;33m\u001b[0m\u001b[0m\n\u001b[0m",
      "\u001b[1;32m~\\AppData\\Roaming\\Python\\Python38\\site-packages\\pandas\\core\\frame.py\u001b[0m in \u001b[0;36m__getitem__\u001b[1;34m(self, key)\u001b[0m\n\u001b[0;32m   2891\u001b[0m         \u001b[1;31m# Do we have a (boolean) 1d indexer?\u001b[0m\u001b[1;33m\u001b[0m\u001b[1;33m\u001b[0m\u001b[1;33m\u001b[0m\u001b[0m\n\u001b[0;32m   2892\u001b[0m         \u001b[1;32mif\u001b[0m \u001b[0mcom\u001b[0m\u001b[1;33m.\u001b[0m\u001b[0mis_bool_indexer\u001b[0m\u001b[1;33m(\u001b[0m\u001b[0mkey\u001b[0m\u001b[1;33m)\u001b[0m\u001b[1;33m:\u001b[0m\u001b[1;33m\u001b[0m\u001b[1;33m\u001b[0m\u001b[0m\n\u001b[1;32m-> 2893\u001b[1;33m             \u001b[1;32mreturn\u001b[0m \u001b[0mself\u001b[0m\u001b[1;33m.\u001b[0m\u001b[0m_getitem_bool_array\u001b[0m\u001b[1;33m(\u001b[0m\u001b[0mkey\u001b[0m\u001b[1;33m)\u001b[0m\u001b[1;33m\u001b[0m\u001b[1;33m\u001b[0m\u001b[0m\n\u001b[0m\u001b[0;32m   2894\u001b[0m \u001b[1;33m\u001b[0m\u001b[0m\n\u001b[0;32m   2895\u001b[0m         \u001b[1;31m# We are left with two options: a single key, and a collection of keys,\u001b[0m\u001b[1;33m\u001b[0m\u001b[1;33m\u001b[0m\u001b[1;33m\u001b[0m\u001b[0m\n",
      "\u001b[1;32m~\\AppData\\Roaming\\Python\\Python38\\site-packages\\pandas\\core\\frame.py\u001b[0m in \u001b[0;36m_getitem_bool_array\u001b[1;34m(self, key)\u001b[0m\n\u001b[0;32m   2937\u001b[0m             )\n\u001b[0;32m   2938\u001b[0m         \u001b[1;32melif\u001b[0m \u001b[0mlen\u001b[0m\u001b[1;33m(\u001b[0m\u001b[0mkey\u001b[0m\u001b[1;33m)\u001b[0m \u001b[1;33m!=\u001b[0m \u001b[0mlen\u001b[0m\u001b[1;33m(\u001b[0m\u001b[0mself\u001b[0m\u001b[1;33m.\u001b[0m\u001b[0mindex\u001b[0m\u001b[1;33m)\u001b[0m\u001b[1;33m:\u001b[0m\u001b[1;33m\u001b[0m\u001b[1;33m\u001b[0m\u001b[0m\n\u001b[1;32m-> 2939\u001b[1;33m             raise ValueError(\n\u001b[0m\u001b[0;32m   2940\u001b[0m                 \u001b[1;34mf\"Item wrong length {len(key)} instead of {len(self.index)}.\"\u001b[0m\u001b[1;33m\u001b[0m\u001b[1;33m\u001b[0m\u001b[0m\n\u001b[0;32m   2941\u001b[0m             )\n",
      "\u001b[1;31mValueError\u001b[0m: Item wrong length 1 instead of 47102."
     ]
    }
   ],
   "source": []
  },
  {
   "cell_type": "code",
   "execution_count": null,
   "metadata": {},
   "outputs": [],
   "source": []
  }
 ],
 "metadata": {
  "kernelspec": {
   "display_name": "Python 3.8.2 64-bit",
   "language": "python",
   "name": "python3"
  },
  "language_info": {
   "codemirror_mode": {
    "name": "ipython",
    "version": 3
   },
   "file_extension": ".py",
   "mimetype": "text/x-python",
   "name": "python",
   "nbconvert_exporter": "python",
   "pygments_lexer": "ipython3",
   "version": "3.8.2"
  },
  "orig_nbformat": 4,
  "vscode": {
   "interpreter": {
    "hash": "570feb405e2e27c949193ac68f46852414290d515b0ba6e5d90d076ed2284471"
   }
  }
 },
 "nbformat": 4,
 "nbformat_minor": 2
}
