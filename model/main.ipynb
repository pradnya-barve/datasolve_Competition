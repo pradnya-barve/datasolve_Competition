{
 "cells": [
  {
   "cell_type": "code",
   "execution_count": 3,
   "metadata": {},
   "outputs": [],
   "source": [
    "import pandas as pd \n",
    "import os "
   ]
  },
  {
   "cell_type": "code",
   "execution_count": 4,
   "metadata": {},
   "outputs": [
    {
     "data": {
      "text/plain": [
       "'c:\\\\Users\\\\Suraj\\\\.vscode\\\\datasolve_Competition\\\\model'"
      ]
     },
     "execution_count": 4,
     "metadata": {},
     "output_type": "execute_result"
    }
   ],
   "source": [
    "os.getcwd()"
   ]
  },
  {
   "cell_type": "code",
   "execution_count": 7,
   "metadata": {},
   "outputs": [],
   "source": [
    "df = pd.read_csv('../dataset/train.csv')"
   ]
  },
  {
   "cell_type": "code",
   "execution_count": 9,
   "metadata": {},
   "outputs": [
    {
     "data": {
      "text/html": [
       "<div>\n",
       "<style scoped>\n",
       "    .dataframe tbody tr th:only-of-type {\n",
       "        vertical-align: middle;\n",
       "    }\n",
       "\n",
       "    .dataframe tbody tr th {\n",
       "        vertical-align: top;\n",
       "    }\n",
       "\n",
       "    .dataframe thead th {\n",
       "        text-align: right;\n",
       "    }\n",
       "</style>\n",
       "<table border=\"1\" class=\"dataframe\">\n",
       "  <thead>\n",
       "    <tr style=\"text-align: right;\">\n",
       "      <th></th>\n",
       "      <th>id</th>\n",
       "      <th>name</th>\n",
       "      <th>document_text</th>\n",
       "      <th>cat_name</th>\n",
       "    </tr>\n",
       "  </thead>\n",
       "  <tbody>\n",
       "    <tr>\n",
       "      <th>0</th>\n",
       "      <td>22474</td>\n",
       "      <td>Information Regarding the Merger of Navios Mar...</td>\n",
       "      <td>At a special meeting held on March 24, 2021 sh...</td>\n",
       "      <td>Corporate Communications</td>\n",
       "    </tr>\n",
       "    <tr>\n",
       "      <th>1</th>\n",
       "      <td>27460</td>\n",
       "      <td>Announcement on Approving the Change of Member...</td>\n",
       "      <td>On April 2, 2021, the China Financial Futures ...</td>\n",
       "      <td>Securities Settlement</td>\n",
       "    </tr>\n",
       "    <tr>\n",
       "      <th>2</th>\n",
       "      <td>6926</td>\n",
       "      <td>SFC Suspends Shiu Yau Wah for Five Months</td>\n",
       "      <td>The Securities and Futures Commission (SFC) ha...</td>\n",
       "      <td>Antitrust</td>\n",
       "    </tr>\n",
       "    <tr>\n",
       "      <th>3</th>\n",
       "      <td>6982</td>\n",
       "      <td>Renminbi RMB Haircut - February 4, 2020</td>\n",
       "      <td>Pursuant to Section 2.6.2 of the Clearing Hous...</td>\n",
       "      <td>Securities Settlement</td>\n",
       "    </tr>\n",
       "    <tr>\n",
       "      <th>4</th>\n",
       "      <td>5022</td>\n",
       "      <td>Anti-Money Laundering, Countering Financing of...</td>\n",
       "      <td>Money laundering and terrorism financing (ML/T...</td>\n",
       "      <td>Financial Crime</td>\n",
       "    </tr>\n",
       "  </tbody>\n",
       "</table>\n",
       "</div>"
      ],
      "text/plain": [
       "      id                                               name  \\\n",
       "0  22474  Information Regarding the Merger of Navios Mar...   \n",
       "1  27460  Announcement on Approving the Change of Member...   \n",
       "2   6926          SFC Suspends Shiu Yau Wah for Five Months   \n",
       "3   6982            Renminbi RMB Haircut - February 4, 2020   \n",
       "4   5022  Anti-Money Laundering, Countering Financing of...   \n",
       "\n",
       "                                       document_text                  cat_name  \n",
       "0  At a special meeting held on March 24, 2021 sh...  Corporate Communications  \n",
       "1  On April 2, 2021, the China Financial Futures ...     Securities Settlement  \n",
       "2  The Securities and Futures Commission (SFC) ha...                 Antitrust  \n",
       "3  Pursuant to Section 2.6.2 of the Clearing Hous...     Securities Settlement  \n",
       "4  Money laundering and terrorism financing (ML/T...           Financial Crime  "
      ]
     },
     "execution_count": 9,
     "metadata": {},
     "output_type": "execute_result"
    }
   ],
   "source": [
    "df.head(5)"
   ]
  },
  {
   "cell_type": "code",
   "execution_count": null,
   "metadata": {},
   "outputs": [],
   "source": []
  }
 ],
 "metadata": {
  "kernelspec": {
   "display_name": "Python 3.8.2 ('env': venv)",
   "language": "python",
   "name": "python3"
  },
  "language_info": {
   "codemirror_mode": {
    "name": "ipython",
    "version": 3
   },
   "file_extension": ".py",
   "mimetype": "text/x-python",
   "name": "python",
   "nbconvert_exporter": "python",
   "pygments_lexer": "ipython3",
   "version": "3.8.2"
  },
  "orig_nbformat": 4,
  "vscode": {
   "interpreter": {
    "hash": "5bcd3bd91634f90d893f305e000b8afbfccf61b33802b4ec2af08c281c4d8aed"
   }
  }
 },
 "nbformat": 4,
 "nbformat_minor": 2
}
