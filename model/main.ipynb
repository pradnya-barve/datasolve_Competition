{
 "cells": [
  {
   "cell_type": "code",
   "execution_count": 1,
   "metadata": {},
   "outputs": [],
   "source": []
  },
  {
   "cell_type": "code",
   "execution_count": 2,
   "metadata": {},
   "outputs": [],
   "source": [
    "df = pd.read_csv('../dataset/train.csv')"
   ]
  },
  {
   "cell_type": "code",
   "execution_count": 3,
   "metadata": {},
   "outputs": [
    {
     "data": {
      "text/html": [
       "<div>\n",
       "<style scoped>\n",
       "    .dataframe tbody tr th:only-of-type {\n",
       "        vertical-align: middle;\n",
       "    }\n",
       "\n",
       "    .dataframe tbody tr th {\n",
       "        vertical-align: top;\n",
       "    }\n",
       "\n",
       "    .dataframe thead th {\n",
       "        text-align: right;\n",
       "    }\n",
       "</style>\n",
       "<table border=\"1\" class=\"dataframe\">\n",
       "  <thead>\n",
       "    <tr style=\"text-align: right;\">\n",
       "      <th></th>\n",
       "      <th>id</th>\n",
       "      <th>name</th>\n",
       "      <th>document_text</th>\n",
       "      <th>cat_name</th>\n",
       "    </tr>\n",
       "  </thead>\n",
       "  <tbody>\n",
       "    <tr>\n",
       "      <th>0</th>\n",
       "      <td>22474</td>\n",
       "      <td>Information Regarding the Merger of Navios Mar...</td>\n",
       "      <td>At a special meeting held on March 24, 2021 sh...</td>\n",
       "      <td>Corporate Communications</td>\n",
       "    </tr>\n",
       "    <tr>\n",
       "      <th>1</th>\n",
       "      <td>27460</td>\n",
       "      <td>Announcement on Approving the Change of Member...</td>\n",
       "      <td>On April 2, 2021, the China Financial Futures ...</td>\n",
       "      <td>Securities Settlement</td>\n",
       "    </tr>\n",
       "    <tr>\n",
       "      <th>2</th>\n",
       "      <td>6926</td>\n",
       "      <td>SFC Suspends Shiu Yau Wah for Five Months</td>\n",
       "      <td>The Securities and Futures Commission (SFC) ha...</td>\n",
       "      <td>Antitrust</td>\n",
       "    </tr>\n",
       "    <tr>\n",
       "      <th>3</th>\n",
       "      <td>6982</td>\n",
       "      <td>Renminbi RMB Haircut - February 4, 2020</td>\n",
       "      <td>Pursuant to Section 2.6.2 of the Clearing Hous...</td>\n",
       "      <td>Securities Settlement</td>\n",
       "    </tr>\n",
       "    <tr>\n",
       "      <th>4</th>\n",
       "      <td>5022</td>\n",
       "      <td>Anti-Money Laundering, Countering Financing of...</td>\n",
       "      <td>Money laundering and terrorism financing (ML/T...</td>\n",
       "      <td>Financial Crime</td>\n",
       "    </tr>\n",
       "  </tbody>\n",
       "</table>\n",
       "</div>"
      ],
      "text/plain": [
       "      id                                               name  \\\n",
       "0  22474  Information Regarding the Merger of Navios Mar...   \n",
       "1  27460  Announcement on Approving the Change of Member...   \n",
       "2   6926          SFC Suspends Shiu Yau Wah for Five Months   \n",
       "3   6982            Renminbi RMB Haircut - February 4, 2020   \n",
       "4   5022  Anti-Money Laundering, Countering Financing of...   \n",
       "\n",
       "                                       document_text                  cat_name  \n",
       "0  At a special meeting held on March 24, 2021 sh...  Corporate Communications  \n",
       "1  On April 2, 2021, the China Financial Futures ...     Securities Settlement  \n",
       "2  The Securities and Futures Commission (SFC) ha...                 Antitrust  \n",
       "3  Pursuant to Section 2.6.2 of the Clearing Hous...     Securities Settlement  \n",
       "4  Money laundering and terrorism financing (ML/T...           Financial Crime  "
      ]
     },
     "execution_count": 3,
     "metadata": {},
     "output_type": "execute_result"
    }
   ],
   "source": [
    "df.head(5)"
   ]
  },
  {
   "cell_type": "code",
   "execution_count": 4,
   "metadata": {},
   "outputs": [
    {
     "name": "stdout",
     "output_type": "stream",
     "text": [
      "<class 'pandas.core.frame.DataFrame'>\n",
      "RangeIndex: 47102 entries, 0 to 47101\n",
      "Data columns (total 4 columns):\n",
      " #   Column         Non-Null Count  Dtype \n",
      "---  ------         --------------  ----- \n",
      " 0   id             47102 non-null  int64 \n",
      " 1   name           47102 non-null  object\n",
      " 2   document_text  47102 non-null  object\n",
      " 3   cat_name       47102 non-null  object\n",
      "dtypes: int64(1), object(3)\n",
      "memory usage: 1.4+ MB\n"
     ]
    }
   ],
   "source": [
    "df.info()"
   ]
  },
  {
   "cell_type": "code",
   "execution_count": 6,
   "metadata": {},
   "outputs": [
    {
     "data": {
      "text/plain": [
       "Index(['id', 'name', 'document_text', 'cat_name'], dtype='object')"
      ]
     },
     "execution_count": 6,
     "metadata": {},
     "output_type": "execute_result"
    }
   ],
   "source": [
    "# there is no null value \n",
    "df.columns"
   ]
  },
  {
   "cell_type": "code",
   "execution_count": 7,
   "metadata": {},
   "outputs": [
    {
     "data": {
      "text/plain": [
       "Examinations                                1742\n",
       "Securities Sales                            1737\n",
       "Market Risk                                 1633\n",
       "Regulatory Actions                          1621\n",
       "Compliance Management                       1391\n",
       "Information Filing                          1387\n",
       "Legal Proceedings                           1343\n",
       "Fees and Charges                            1301\n",
       "Exemptions                                  1190\n",
       "Financial Crime                             1178\n",
       "Contract Provisions                         1153\n",
       "Securities Clearing                         1141\n",
       "Listing                                     1124\n",
       "Securities Issuing                          1107\n",
       "Payments and Settlements                    1099\n",
       "Natural Disasters                           1079\n",
       "Banking                                     1078\n",
       "Regulatory Reporting                        1042\n",
       "Licensing                                    999\n",
       "Risk Management                              982\n",
       "Licensure and certification                  982\n",
       "Consumer protection                          969\n",
       "Corporate Governance                         958\n",
       "Accounting and Finance                       935\n",
       "Legal                                        907\n",
       "Fraud                                        906\n",
       "Antitrust                                    880\n",
       "Trade Pricing                                872\n",
       "Money Services                               869\n",
       "Securities Settlement                        852\n",
       "Delivery                                     821\n",
       "Monetary and Economic Policy                 802\n",
       "Powers and Duties                            797\n",
       "Insurance                                    737\n",
       "Trade Settlement                             723\n",
       "Market Abuse                                 722\n",
       "Commodities Trading                          682\n",
       "Broker Dealer                                670\n",
       "Securities Management                        664\n",
       "Records Maintenance                          630\n",
       "Required Disclosures                         627\n",
       "Quotation                                    611\n",
       "Definitions                                  570\n",
       "Research                                     554\n",
       "Financial Accounting                         535\n",
       "Liquidity Risk                               534\n",
       "Corporate Communications                     518\n",
       "Forms                                        508\n",
       "Money-Laundering and Terrorist Financing     505\n",
       "IT Risk                                      435\n",
       "Name: cat_name, dtype: int64"
      ]
     },
     "execution_count": 7,
     "metadata": {},
     "output_type": "execute_result"
    }
   ],
   "source": [
    "# we have to predict cat_name of document\n",
    "df['cat_name'].value_counts()"
   ]
  },
  {
   "cell_type": "code",
   "execution_count": null,
   "metadata": {},
   "outputs": [],
   "source": []
  }
 ],
 "metadata": {
  "kernelspec": {
   "display_name": "venv",
   "language": "python",
   "name": "venv"
  },
  "language_info": {
   "codemirror_mode": {
    "name": "ipython",
    "version": 3
   },
   "file_extension": ".py",
   "mimetype": "text/x-python",
   "name": "python",
   "nbconvert_exporter": "python",
   "pygments_lexer": "ipython3",
   "version": "3.8.2"
  },
  "orig_nbformat": 4,
  "vscode": {
   "interpreter": {
    "hash": "5bcd3bd91634f90d893f305e000b8afbfccf61b33802b4ec2af08c281c4d8aed"
   }
  }
 },
 "nbformat": 4,
 "nbformat_minor": 2
}
