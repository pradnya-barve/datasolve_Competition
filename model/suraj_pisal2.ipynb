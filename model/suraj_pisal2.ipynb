{
 "cells": [
  {
   "cell_type": "code",
   "execution_count": 2,
   "metadata": {},
   "outputs": [],
   "source": [
    "\n",
    "# importing required libraries\n",
    "import pandas as pd \n",
    "import seaborn as sns \n",
    "import matplotlib.pyplot as plt\n",
    "import numpy as np\n",
    "\n",
    "\n",
    "# nltk libraries used for NLP\n",
    "import nltk\n",
    "from nltk.corpus import stopwords\n",
    "from nltk.stem import WordNetLemmatizer\n",
    "from nltk.tokenize import word_tokenize\n",
    "# from sklearn.feature_extraction.text import CountVectorizer\n",
    "# from sklearn.feature_extraction.text import TfidfVectorizer\n",
    "# from sklearn.model_selection import train_test_split\n",
    "# from sklearn.linear_model import LogisticRegression\n",
    "# from sklearn.metrics import accuracy_score, confusion_matrix, classification_report\n",
    "# from sklearn.naive_bayes import MultinomialNB\n"
   ]
  },
  {
   "cell_type": "code",
   "execution_count": 3,
   "metadata": {},
   "outputs": [],
   "source": [
    "df = pd.read_csv('../dataset/train_cleaned.csv')"
   ]
  },
  {
   "cell_type": "code",
   "execution_count": 4,
   "metadata": {},
   "outputs": [
    {
     "data": {
      "text/html": [
       "<div>\n",
       "<style scoped>\n",
       "    .dataframe tbody tr th:only-of-type {\n",
       "        vertical-align: middle;\n",
       "    }\n",
       "\n",
       "    .dataframe tbody tr th {\n",
       "        vertical-align: top;\n",
       "    }\n",
       "\n",
       "    .dataframe thead th {\n",
       "        text-align: right;\n",
       "    }\n",
       "</style>\n",
       "<table border=\"1\" class=\"dataframe\">\n",
       "  <thead>\n",
       "    <tr style=\"text-align: right;\">\n",
       "      <th></th>\n",
       "      <th>id</th>\n",
       "      <th>name</th>\n",
       "      <th>document_text</th>\n",
       "      <th>cat_name</th>\n",
       "    </tr>\n",
       "  </thead>\n",
       "  <tbody>\n",
       "    <tr>\n",
       "      <th>0</th>\n",
       "      <td>22474</td>\n",
       "      <td>information regarding merger navios maritime c...</td>\n",
       "      <td>at special meeting held march 24 2021 sharehol...</td>\n",
       "      <td>Corporate Communications</td>\n",
       "    </tr>\n",
       "    <tr>\n",
       "      <th>1</th>\n",
       "      <td>27460</td>\n",
       "      <td>announcement approving change membership 2 fut...</td>\n",
       "      <td>on april 2 2021 china financial futures exchan...</td>\n",
       "      <td>Securities Settlement</td>\n",
       "    </tr>\n",
       "    <tr>\n",
       "      <th>2</th>\n",
       "      <td>6926</td>\n",
       "      <td>sfc suspends shiu yau wah five months</td>\n",
       "      <td>the securities futures commission sfc suspende...</td>\n",
       "      <td>Antitrust</td>\n",
       "    </tr>\n",
       "    <tr>\n",
       "      <th>3</th>\n",
       "      <td>6982</td>\n",
       "      <td>renminbi rmb haircut february 4 2020</td>\n",
       "      <td>pursuant section 262 clearing house procedures...</td>\n",
       "      <td>Securities Settlement</td>\n",
       "    </tr>\n",
       "    <tr>\n",
       "      <th>4</th>\n",
       "      <td>5022</td>\n",
       "      <td>antimoney laundering countering financing terr...</td>\n",
       "      <td>money laundering terrorism financing mltf fina...</td>\n",
       "      <td>Financial Crime</td>\n",
       "    </tr>\n",
       "  </tbody>\n",
       "</table>\n",
       "</div>"
      ],
      "text/plain": [
       "      id                                               name  \\\n",
       "0  22474  information regarding merger navios maritime c...   \n",
       "1  27460  announcement approving change membership 2 fut...   \n",
       "2   6926              sfc suspends shiu yau wah five months   \n",
       "3   6982               renminbi rmb haircut february 4 2020   \n",
       "4   5022  antimoney laundering countering financing terr...   \n",
       "\n",
       "                                       document_text                  cat_name  \n",
       "0  at special meeting held march 24 2021 sharehol...  Corporate Communications  \n",
       "1  on april 2 2021 china financial futures exchan...     Securities Settlement  \n",
       "2  the securities futures commission sfc suspende...                 Antitrust  \n",
       "3  pursuant section 262 clearing house procedures...     Securities Settlement  \n",
       "4  money laundering terrorism financing mltf fina...           Financial Crime  "
      ]
     },
     "execution_count": 4,
     "metadata": {},
     "output_type": "execute_result"
    }
   ],
   "source": [
    "df.head()"
   ]
  },
  {
   "cell_type": "code",
   "execution_count": 5,
   "metadata": {},
   "outputs": [],
   "source": [
    "from nltk.tokenize import word_tokenize\n",
    "def tokenise(df,col):\n",
    "    df[col] = df[col].apply(word_tokenize)\n",
    "    return df\n",
    "\n",
    "\n"
   ]
  },
  {
   "cell_type": "code",
   "execution_count": 6,
   "metadata": {},
   "outputs": [],
   "source": [
    "df = tokenise(df,'name')"
   ]
  },
  {
   "cell_type": "code",
   "execution_count": 7,
   "metadata": {},
   "outputs": [],
   "source": [
    "df = tokenise(df,'document_text')"
   ]
  },
  {
   "cell_type": "code",
   "execution_count": 8,
   "metadata": {},
   "outputs": [
    {
     "data": {
      "text/html": [
       "<div>\n",
       "<style scoped>\n",
       "    .dataframe tbody tr th:only-of-type {\n",
       "        vertical-align: middle;\n",
       "    }\n",
       "\n",
       "    .dataframe tbody tr th {\n",
       "        vertical-align: top;\n",
       "    }\n",
       "\n",
       "    .dataframe thead th {\n",
       "        text-align: right;\n",
       "    }\n",
       "</style>\n",
       "<table border=\"1\" class=\"dataframe\">\n",
       "  <thead>\n",
       "    <tr style=\"text-align: right;\">\n",
       "      <th></th>\n",
       "      <th>id</th>\n",
       "      <th>name</th>\n",
       "      <th>document_text</th>\n",
       "      <th>cat_name</th>\n",
       "    </tr>\n",
       "  </thead>\n",
       "  <tbody>\n",
       "    <tr>\n",
       "      <th>0</th>\n",
       "      <td>22474</td>\n",
       "      <td>[information, regarding, merger, navios, marit...</td>\n",
       "      <td>[at, special, meeting, held, march, 24, 2021, ...</td>\n",
       "      <td>Corporate Communications</td>\n",
       "    </tr>\n",
       "    <tr>\n",
       "      <th>1</th>\n",
       "      <td>27460</td>\n",
       "      <td>[announcement, approving, change, membership, ...</td>\n",
       "      <td>[on, april, 2, 2021, china, financial, futures...</td>\n",
       "      <td>Securities Settlement</td>\n",
       "    </tr>\n",
       "    <tr>\n",
       "      <th>2</th>\n",
       "      <td>6926</td>\n",
       "      <td>[sfc, suspends, shiu, yau, wah, five, months]</td>\n",
       "      <td>[the, securities, futures, commission, sfc, su...</td>\n",
       "      <td>Antitrust</td>\n",
       "    </tr>\n",
       "    <tr>\n",
       "      <th>3</th>\n",
       "      <td>6982</td>\n",
       "      <td>[renminbi, rmb, haircut, february, 4, 2020]</td>\n",
       "      <td>[pursuant, section, 262, clearing, house, proc...</td>\n",
       "      <td>Securities Settlement</td>\n",
       "    </tr>\n",
       "    <tr>\n",
       "      <th>4</th>\n",
       "      <td>5022</td>\n",
       "      <td>[antimoney, laundering, countering, financing,...</td>\n",
       "      <td>[money, laundering, terrorism, financing, mltf...</td>\n",
       "      <td>Financial Crime</td>\n",
       "    </tr>\n",
       "  </tbody>\n",
       "</table>\n",
       "</div>"
      ],
      "text/plain": [
       "      id                                               name  \\\n",
       "0  22474  [information, regarding, merger, navios, marit...   \n",
       "1  27460  [announcement, approving, change, membership, ...   \n",
       "2   6926      [sfc, suspends, shiu, yau, wah, five, months]   \n",
       "3   6982        [renminbi, rmb, haircut, february, 4, 2020]   \n",
       "4   5022  [antimoney, laundering, countering, financing,...   \n",
       "\n",
       "                                       document_text                  cat_name  \n",
       "0  [at, special, meeting, held, march, 24, 2021, ...  Corporate Communications  \n",
       "1  [on, april, 2, 2021, china, financial, futures...     Securities Settlement  \n",
       "2  [the, securities, futures, commission, sfc, su...                 Antitrust  \n",
       "3  [pursuant, section, 262, clearing, house, proc...     Securities Settlement  \n",
       "4  [money, laundering, terrorism, financing, mltf...           Financial Crime  "
      ]
     },
     "execution_count": 8,
     "metadata": {},
     "output_type": "execute_result"
    }
   ],
   "source": [
    "df.head()"
   ]
  },
  {
   "cell_type": "code",
   "execution_count": null,
   "metadata": {},
   "outputs": [],
   "source": []
  }
 ],
 "metadata": {
  "kernelspec": {
   "display_name": "Python 3.8.2 ('env': venv)",
   "language": "python",
   "name": "python3"
  },
  "language_info": {
   "codemirror_mode": {
    "name": "ipython",
    "version": 3
   },
   "file_extension": ".py",
   "mimetype": "text/x-python",
   "name": "python",
   "nbconvert_exporter": "python",
   "pygments_lexer": "ipython3",
   "version": "3.8.2"
  },
  "orig_nbformat": 4,
  "vscode": {
   "interpreter": {
    "hash": "5bcd3bd91634f90d893f305e000b8afbfccf61b33802b4ec2af08c281c4d8aed"
   }
  }
 },
 "nbformat": 4,
 "nbformat_minor": 2
}
