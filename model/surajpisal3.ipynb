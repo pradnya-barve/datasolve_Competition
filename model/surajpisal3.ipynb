{
 "cells": [
  {
   "cell_type": "code",
   "execution_count": 1,
   "metadata": {},
   "outputs": [],
   "source": [
    "\n",
    "# importing required libraries\n",
    "import pandas as pd \n",
    "import seaborn as sns \n",
    "import matplotlib.pyplot as plt\n",
    "import numpy as np\n",
    "import nltk\n",
    "\n"
   ]
  },
  {
   "cell_type": "code",
   "execution_count": 2,
   "metadata": {},
   "outputs": [],
   "source": [
    "df = pd.read_csv('../dataset/train_cleaned2.csv')\n"
   ]
  },
  {
   "cell_type": "code",
   "execution_count": 3,
   "metadata": {},
   "outputs": [
    {
     "data": {
      "text/html": [
       "<div>\n",
       "<style scoped>\n",
       "    .dataframe tbody tr th:only-of-type {\n",
       "        vertical-align: middle;\n",
       "    }\n",
       "\n",
       "    .dataframe tbody tr th {\n",
       "        vertical-align: top;\n",
       "    }\n",
       "\n",
       "    .dataframe thead th {\n",
       "        text-align: right;\n",
       "    }\n",
       "</style>\n",
       "<table border=\"1\" class=\"dataframe\">\n",
       "  <thead>\n",
       "    <tr style=\"text-align: right;\">\n",
       "      <th></th>\n",
       "      <th>id</th>\n",
       "      <th>name</th>\n",
       "      <th>document_text</th>\n",
       "      <th>cat_name</th>\n",
       "    </tr>\n",
       "  </thead>\n",
       "  <tbody>\n",
       "    <tr>\n",
       "      <th>0</th>\n",
       "      <td>22474</td>\n",
       "      <td>['inform', 'regard', 'merger', 'navio', 'marit...</td>\n",
       "      <td>['at', 'special', 'meet', 'held', 'march', '24...</td>\n",
       "      <td>Corporate Communications</td>\n",
       "    </tr>\n",
       "    <tr>\n",
       "      <th>1</th>\n",
       "      <td>27460</td>\n",
       "      <td>['announc', 'approv', 'chang', 'membership', '...</td>\n",
       "      <td>['on', 'april', '2', '2021', 'china', 'financi...</td>\n",
       "      <td>Securities Settlement</td>\n",
       "    </tr>\n",
       "    <tr>\n",
       "      <th>2</th>\n",
       "      <td>6926</td>\n",
       "      <td>['sfc', 'suspend', 'shiu', 'yau', 'wah', 'five...</td>\n",
       "      <td>['the', 'secur', 'futur', 'commiss', 'sfc', 's...</td>\n",
       "      <td>Antitrust</td>\n",
       "    </tr>\n",
       "    <tr>\n",
       "      <th>3</th>\n",
       "      <td>6982</td>\n",
       "      <td>['renminbi', 'rmb', 'haircut', 'februari', '4'...</td>\n",
       "      <td>['pursuant', 'section', '262', 'clear', 'hous'...</td>\n",
       "      <td>Securities Settlement</td>\n",
       "    </tr>\n",
       "    <tr>\n",
       "      <th>4</th>\n",
       "      <td>5022</td>\n",
       "      <td>['antimoney', 'launder', 'counter', 'financ', ...</td>\n",
       "      <td>['money', 'launder', 'terror', 'financ', 'mltf...</td>\n",
       "      <td>Financial Crime</td>\n",
       "    </tr>\n",
       "  </tbody>\n",
       "</table>\n",
       "</div>"
      ],
      "text/plain": [
       "      id                                               name  \\\n",
       "0  22474  ['inform', 'regard', 'merger', 'navio', 'marit...   \n",
       "1  27460  ['announc', 'approv', 'chang', 'membership', '...   \n",
       "2   6926  ['sfc', 'suspend', 'shiu', 'yau', 'wah', 'five...   \n",
       "3   6982  ['renminbi', 'rmb', 'haircut', 'februari', '4'...   \n",
       "4   5022  ['antimoney', 'launder', 'counter', 'financ', ...   \n",
       "\n",
       "                                       document_text                  cat_name  \n",
       "0  ['at', 'special', 'meet', 'held', 'march', '24...  Corporate Communications  \n",
       "1  ['on', 'april', '2', '2021', 'china', 'financi...     Securities Settlement  \n",
       "2  ['the', 'secur', 'futur', 'commiss', 'sfc', 's...                 Antitrust  \n",
       "3  ['pursuant', 'section', '262', 'clear', 'hous'...     Securities Settlement  \n",
       "4  ['money', 'launder', 'terror', 'financ', 'mltf...           Financial Crime  "
      ]
     },
     "execution_count": 3,
     "metadata": {},
     "output_type": "execute_result"
    }
   ],
   "source": [
    "df.head()"
   ]
  },
  {
   "cell_type": "code",
   "execution_count": 4,
   "metadata": {},
   "outputs": [],
   "source": [
    "# lemmitization\n",
    "from nltk.stem import WordNetLemmatizer\n",
    "def lemmatize_text(text):\n",
    "    lemmatizer = WordNetLemmatizer()\n",
    "    return [lemmatizer.lemmatize(w) for w in nltk.word_tokenize(text)]"
   ]
  },
  {
   "cell_type": "code",
   "execution_count": 10,
   "metadata": {},
   "outputs": [],
   "source": [
    "df['name'] = df['name'].apply(lemmatize_text)"
   ]
  },
  {
   "cell_type": "code",
   "execution_count": 18,
   "metadata": {},
   "outputs": [],
   "source": [
    "df['document_text'] = df['document_text'].apply(lemmatize_text)\n",
    "df['document_text'] = df['document_text'].apply(lambda x: ' '.join(x))"
   ]
  },
  {
   "cell_type": "code",
   "execution_count": 16,
   "metadata": {},
   "outputs": [],
   "source": [
    "df['name'] = df['name'].apply(lambda x: ' '.join(x))"
   ]
  },
  {
   "cell_type": "code",
   "execution_count": 17,
   "metadata": {},
   "outputs": [
    {
     "data": {
      "text/html": [
       "<div>\n",
       "<style scoped>\n",
       "    .dataframe tbody tr th:only-of-type {\n",
       "        vertical-align: middle;\n",
       "    }\n",
       "\n",
       "    .dataframe tbody tr th {\n",
       "        vertical-align: top;\n",
       "    }\n",
       "\n",
       "    .dataframe thead th {\n",
       "        text-align: right;\n",
       "    }\n",
       "</style>\n",
       "<table border=\"1\" class=\"dataframe\">\n",
       "  <thead>\n",
       "    <tr style=\"text-align: right;\">\n",
       "      <th></th>\n",
       "      <th>id</th>\n",
       "      <th>name</th>\n",
       "      <th>document_text</th>\n",
       "      <th>cat_name</th>\n",
       "    </tr>\n",
       "  </thead>\n",
       "  <tbody>\n",
       "    <tr>\n",
       "      <th>0</th>\n",
       "      <td>22474</td>\n",
       "      <td>[ 'inform ' , 'regard ' , 'merger ' , 'navio '...</td>\n",
       "      <td>['at', 'special', 'meet', 'held', 'march', '24...</td>\n",
       "      <td>Corporate Communications</td>\n",
       "    </tr>\n",
       "    <tr>\n",
       "      <th>1</th>\n",
       "      <td>27460</td>\n",
       "      <td>[ 'announc ' , 'approv ' , 'chang ' , 'members...</td>\n",
       "      <td>['on', 'april', '2', '2021', 'china', 'financi...</td>\n",
       "      <td>Securities Settlement</td>\n",
       "    </tr>\n",
       "    <tr>\n",
       "      <th>2</th>\n",
       "      <td>6926</td>\n",
       "      <td>[ 'sfc ' , 'suspend ' , 'shiu ' , 'yau ' , 'wa...</td>\n",
       "      <td>['the', 'secur', 'futur', 'commiss', 'sfc', 's...</td>\n",
       "      <td>Antitrust</td>\n",
       "    </tr>\n",
       "    <tr>\n",
       "      <th>3</th>\n",
       "      <td>6982</td>\n",
       "      <td>[ 'renminbi ' , 'rmb ' , 'haircut ' , 'februar...</td>\n",
       "      <td>['pursuant', 'section', '262', 'clear', 'hous'...</td>\n",
       "      <td>Securities Settlement</td>\n",
       "    </tr>\n",
       "    <tr>\n",
       "      <th>4</th>\n",
       "      <td>5022</td>\n",
       "      <td>[ 'antimoney ' , 'launder ' , 'counter ' , 'fi...</td>\n",
       "      <td>['money', 'launder', 'terror', 'financ', 'mltf...</td>\n",
       "      <td>Financial Crime</td>\n",
       "    </tr>\n",
       "  </tbody>\n",
       "</table>\n",
       "</div>"
      ],
      "text/plain": [
       "      id                                               name  \\\n",
       "0  22474  [ 'inform ' , 'regard ' , 'merger ' , 'navio '...   \n",
       "1  27460  [ 'announc ' , 'approv ' , 'chang ' , 'members...   \n",
       "2   6926  [ 'sfc ' , 'suspend ' , 'shiu ' , 'yau ' , 'wa...   \n",
       "3   6982  [ 'renminbi ' , 'rmb ' , 'haircut ' , 'februar...   \n",
       "4   5022  [ 'antimoney ' , 'launder ' , 'counter ' , 'fi...   \n",
       "\n",
       "                                       document_text                  cat_name  \n",
       "0  ['at', 'special', 'meet', 'held', 'march', '24...  Corporate Communications  \n",
       "1  ['on', 'april', '2', '2021', 'china', 'financi...     Securities Settlement  \n",
       "2  ['the', 'secur', 'futur', 'commiss', 'sfc', 's...                 Antitrust  \n",
       "3  ['pursuant', 'section', '262', 'clear', 'hous'...     Securities Settlement  \n",
       "4  ['money', 'launder', 'terror', 'financ', 'mltf...           Financial Crime  "
      ]
     },
     "execution_count": 17,
     "metadata": {},
     "output_type": "execute_result"
    }
   ],
   "source": [
    "df.head()"
   ]
  },
  {
   "cell_type": "code",
   "execution_count": 8,
   "metadata": {},
   "outputs": [
    {
     "name": "stderr",
     "output_type": "stream",
     "text": [
      "[nltk_data] Downloading package punkt to\n",
      "[nltk_data]     C:\\Users\\Suraj\\AppData\\Roaming\\nltk_data...\n",
      "[nltk_data]   Package punkt is already up-to-date!\n"
     ]
    },
    {
     "data": {
      "text/plain": [
       "True"
      ]
     },
     "execution_count": 8,
     "metadata": {},
     "output_type": "execute_result"
    }
   ],
   "source": [
    "# nltk.download('wordnet')\n",
    "nltk.download('punkt')\n"
   ]
  },
  {
   "cell_type": "code",
   "execution_count": 9,
   "metadata": {},
   "outputs": [
    {
     "name": "stderr",
     "output_type": "stream",
     "text": [
      "[nltk_data] Downloading package omw-1.4 to\n",
      "[nltk_data]     C:\\Users\\Suraj\\AppData\\Roaming\\nltk_data...\n"
     ]
    },
    {
     "data": {
      "text/plain": [
       "True"
      ]
     },
     "execution_count": 9,
     "metadata": {},
     "output_type": "execute_result"
    }
   ],
   "source": [
    "nltk.download('omw-1.4')"
   ]
  },
  {
   "cell_type": "code",
   "execution_count": 19,
   "metadata": {},
   "outputs": [
    {
     "data": {
      "text/html": [
       "<div>\n",
       "<style scoped>\n",
       "    .dataframe tbody tr th:only-of-type {\n",
       "        vertical-align: middle;\n",
       "    }\n",
       "\n",
       "    .dataframe tbody tr th {\n",
       "        vertical-align: top;\n",
       "    }\n",
       "\n",
       "    .dataframe thead th {\n",
       "        text-align: right;\n",
       "    }\n",
       "</style>\n",
       "<table border=\"1\" class=\"dataframe\">\n",
       "  <thead>\n",
       "    <tr style=\"text-align: right;\">\n",
       "      <th></th>\n",
       "      <th>id</th>\n",
       "      <th>name</th>\n",
       "      <th>document_text</th>\n",
       "      <th>cat_name</th>\n",
       "    </tr>\n",
       "  </thead>\n",
       "  <tbody>\n",
       "    <tr>\n",
       "      <th>0</th>\n",
       "      <td>22474</td>\n",
       "      <td>[ 'inform ' , 'regard ' , 'merger ' , 'navio '...</td>\n",
       "      <td>[ 'at ' , 'special ' , 'meet ' , 'held ' , 'ma...</td>\n",
       "      <td>Corporate Communications</td>\n",
       "    </tr>\n",
       "    <tr>\n",
       "      <th>1</th>\n",
       "      <td>27460</td>\n",
       "      <td>[ 'announc ' , 'approv ' , 'chang ' , 'members...</td>\n",
       "      <td>[ 'on ' , 'april ' , ' 2 ' , '2021 ' , 'china ...</td>\n",
       "      <td>Securities Settlement</td>\n",
       "    </tr>\n",
       "    <tr>\n",
       "      <th>2</th>\n",
       "      <td>6926</td>\n",
       "      <td>[ 'sfc ' , 'suspend ' , 'shiu ' , 'yau ' , 'wa...</td>\n",
       "      <td>[ 'the ' , 'secur ' , 'futur ' , 'commiss ' , ...</td>\n",
       "      <td>Antitrust</td>\n",
       "    </tr>\n",
       "    <tr>\n",
       "      <th>3</th>\n",
       "      <td>6982</td>\n",
       "      <td>[ 'renminbi ' , 'rmb ' , 'haircut ' , 'februar...</td>\n",
       "      <td>[ 'pursuant ' , 'section ' , '262 ' , 'clear '...</td>\n",
       "      <td>Securities Settlement</td>\n",
       "    </tr>\n",
       "    <tr>\n",
       "      <th>4</th>\n",
       "      <td>5022</td>\n",
       "      <td>[ 'antimoney ' , 'launder ' , 'counter ' , 'fi...</td>\n",
       "      <td>[ 'money ' , 'launder ' , 'terror ' , 'financ ...</td>\n",
       "      <td>Financial Crime</td>\n",
       "    </tr>\n",
       "  </tbody>\n",
       "</table>\n",
       "</div>"
      ],
      "text/plain": [
       "      id                                               name  \\\n",
       "0  22474  [ 'inform ' , 'regard ' , 'merger ' , 'navio '...   \n",
       "1  27460  [ 'announc ' , 'approv ' , 'chang ' , 'members...   \n",
       "2   6926  [ 'sfc ' , 'suspend ' , 'shiu ' , 'yau ' , 'wa...   \n",
       "3   6982  [ 'renminbi ' , 'rmb ' , 'haircut ' , 'februar...   \n",
       "4   5022  [ 'antimoney ' , 'launder ' , 'counter ' , 'fi...   \n",
       "\n",
       "                                       document_text                  cat_name  \n",
       "0  [ 'at ' , 'special ' , 'meet ' , 'held ' , 'ma...  Corporate Communications  \n",
       "1  [ 'on ' , 'april ' , ' 2 ' , '2021 ' , 'china ...     Securities Settlement  \n",
       "2  [ 'the ' , 'secur ' , 'futur ' , 'commiss ' , ...                 Antitrust  \n",
       "3  [ 'pursuant ' , 'section ' , '262 ' , 'clear '...     Securities Settlement  \n",
       "4  [ 'money ' , 'launder ' , 'terror ' , 'financ ...           Financial Crime  "
      ]
     },
     "execution_count": 19,
     "metadata": {},
     "output_type": "execute_result"
    }
   ],
   "source": [
    "df.head()"
   ]
  },
  {
   "cell_type": "code",
   "execution_count": 20,
   "metadata": {},
   "outputs": [],
   "source": [
    "df.to_csv('../dataset/train_cleaned3.csv', index=False)"
   ]
  },
  {
   "cell_type": "code",
   "execution_count": null,
   "metadata": {},
   "outputs": [],
   "source": []
  }
 ],
 "metadata": {
  "kernelspec": {
   "display_name": "Python 3.8.2 ('env': venv)",
   "language": "python",
   "name": "python3"
  },
  "language_info": {
   "codemirror_mode": {
    "name": "ipython",
    "version": 3
   },
   "file_extension": ".py",
   "mimetype": "text/x-python",
   "name": "python",
   "nbconvert_exporter": "python",
   "pygments_lexer": "ipython3",
   "version": "3.8.2"
  },
  "orig_nbformat": 4,
  "vscode": {
   "interpreter": {
    "hash": "5bcd3bd91634f90d893f305e000b8afbfccf61b33802b4ec2af08c281c4d8aed"
   }
  }
 },
 "nbformat": 4,
 "nbformat_minor": 2
}
