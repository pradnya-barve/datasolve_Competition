{
 "cells": [
  {
   "cell_type": "code",
   "execution_count": 1,
   "metadata": {},
   "outputs": [],
   "source": [
    "\n",
    "# importing required libraries\n",
    "import pandas as pd \n",
    "import seaborn as sns \n",
    "import matplotlib.pyplot as plt\n",
    "import numpy as np\n",
    "\n",
    "\n",
    "# nltk libraries used for NLP\n",
    "import nltk\n",
    "from nltk.corpus import stopwords\n",
    "from nltk.stem import WordNetLemmatizer\n",
    "from nltk.tokenize import word_tokenize\n",
    "# from sklearn.feature_extraction.text import CountVectorizer\n",
    "# from sklearn.feature_extraction.text import TfidfVectorizer\n",
    "# from sklearn.model_selection import train_test_split\n",
    "# from sklearn.linear_model import LogisticRegression\n",
    "# from sklearn.metrics import accuracy_score, confusion_matrix, classification_report\n",
    "# from sklearn.naive_bayes import MultinomialNB\n"
   ]
  },
  {
   "cell_type": "code",
   "execution_count": 25,
   "metadata": {},
   "outputs": [
    {
     "name": "stderr",
     "output_type": "stream",
     "text": [
      "[nltk_data] Downloading package stopwords to\n",
      "[nltk_data]     C:\\Users\\Suraj\\AppData\\Roaming\\nltk_data...\n",
      "[nltk_data]   Package stopwords is already up-to-date!\n"
     ]
    },
    {
     "data": {
      "text/plain": [
       "True"
      ]
     },
     "execution_count": 25,
     "metadata": {},
     "output_type": "execute_result"
    }
   ],
   "source": [
    "# downloading required nltk libraries\n",
    "nltk.download('stopwords')"
   ]
  },
  {
   "cell_type": "code",
   "execution_count": 2,
   "metadata": {},
   "outputs": [],
   "source": [
    "df = pd.read_csv('../dataset/train.csv')"
   ]
  },
  {
   "cell_type": "code",
   "execution_count": 3,
   "metadata": {},
   "outputs": [
    {
     "data": {
      "text/html": [
       "<div>\n",
       "<style scoped>\n",
       "    .dataframe tbody tr th:only-of-type {\n",
       "        vertical-align: middle;\n",
       "    }\n",
       "\n",
       "    .dataframe tbody tr th {\n",
       "        vertical-align: top;\n",
       "    }\n",
       "\n",
       "    .dataframe thead th {\n",
       "        text-align: right;\n",
       "    }\n",
       "</style>\n",
       "<table border=\"1\" class=\"dataframe\">\n",
       "  <thead>\n",
       "    <tr style=\"text-align: right;\">\n",
       "      <th></th>\n",
       "      <th>id</th>\n",
       "      <th>name</th>\n",
       "      <th>document_text</th>\n",
       "      <th>cat_name</th>\n",
       "    </tr>\n",
       "  </thead>\n",
       "  <tbody>\n",
       "    <tr>\n",
       "      <th>0</th>\n",
       "      <td>22474</td>\n",
       "      <td>Information Regarding the Merger of Navios Mar...</td>\n",
       "      <td>At a special meeting held on March 24, 2021 sh...</td>\n",
       "      <td>Corporate Communications</td>\n",
       "    </tr>\n",
       "    <tr>\n",
       "      <th>1</th>\n",
       "      <td>27460</td>\n",
       "      <td>Announcement on Approving the Change of Member...</td>\n",
       "      <td>On April 2, 2021, the China Financial Futures ...</td>\n",
       "      <td>Securities Settlement</td>\n",
       "    </tr>\n",
       "  </tbody>\n",
       "</table>\n",
       "</div>"
      ],
      "text/plain": [
       "      id                                               name  \\\n",
       "0  22474  Information Regarding the Merger of Navios Mar...   \n",
       "1  27460  Announcement on Approving the Change of Member...   \n",
       "\n",
       "                                       document_text                  cat_name  \n",
       "0  At a special meeting held on March 24, 2021 sh...  Corporate Communications  \n",
       "1  On April 2, 2021, the China Financial Futures ...     Securities Settlement  "
      ]
     },
     "execution_count": 3,
     "metadata": {},
     "output_type": "execute_result"
    }
   ],
   "source": [
    "df.head(2)"
   ]
  },
  {
   "cell_type": "code",
   "execution_count": 4,
   "metadata": {},
   "outputs": [],
   "source": [
    "# df['cat_name'].value_counts()"
   ]
  },
  {
   "cell_type": "code",
   "execution_count": 5,
   "metadata": {},
   "outputs": [
    {
     "data": {
      "text/plain": [
       "array(['Corporate Communications', 'Securities Settlement', 'Antitrust',\n",
       "       'Financial Crime', 'Commodities Trading', 'Examinations',\n",
       "       'Insurance', 'Required Disclosures', 'Consumer protection',\n",
       "       'Market Risk', 'Natural Disasters', 'Securities Management',\n",
       "       'Information Filing', 'Quotation', 'Financial Accounting',\n",
       "       'Securities Clearing', 'Listing', 'Records Maintenance',\n",
       "       'Delivery', 'Monetary and Economic Policy', 'Banking',\n",
       "       'Regulatory Actions', 'Securities Sales', 'Compliance Management',\n",
       "       'Fees and Charges', 'Licensing', 'Legal Proceedings',\n",
       "       'Corporate Governance', 'Exemptions', 'Legal',\n",
       "       'Contract Provisions', 'Payments and Settlements', 'IT Risk',\n",
       "       'Trade Pricing', 'Licensure and certification', 'Trade Settlement',\n",
       "       'Market Abuse', 'Regulatory Reporting', 'Powers and Duties',\n",
       "       'Money-Laundering and Terrorist Financing',\n",
       "       'Accounting and Finance', 'Fraud', 'Broker Dealer',\n",
       "       'Securities Issuing', 'Risk Management', 'Forms', 'Definitions',\n",
       "       'Liquidity Risk', 'Money Services', 'Research'], dtype=object)"
      ]
     },
     "execution_count": 5,
     "metadata": {},
     "output_type": "execute_result"
    }
   ],
   "source": [
    "df['cat_name'].unique()"
   ]
  },
  {
   "cell_type": "code",
   "execution_count": 6,
   "metadata": {},
   "outputs": [
    {
     "data": {
      "text/plain": [
       "0    Information Regarding the Merger of Navios Mar...\n",
       "1    Announcement on Approving the Change of Member...\n",
       "2            SFC Suspends Shiu Yau Wah for Five Months\n",
       "3              Renminbi RMB Haircut - February 4, 2020\n",
       "4    Anti-Money Laundering, Countering Financing of...\n",
       "Name: name, dtype: object"
      ]
     },
     "execution_count": 6,
     "metadata": {},
     "output_type": "execute_result"
    }
   ],
   "source": [
    "df['name'].head()"
   ]
  },
  {
   "cell_type": "code",
   "execution_count": 7,
   "metadata": {},
   "outputs": [
    {
     "data": {
      "text/plain": [
       "0     Information Regarding the Merger of Navios Mar...\n",
       "1     Announcement on Approving the Change of Member...\n",
       "2             SFC Suspends Shiu Yau Wah for Five Months\n",
       "3               Renminbi RMB Haircut - February 4, 2020\n",
       "4     Anti-Money Laundering, Countering Financing of...\n",
       "5     Order Approving Proposed Rule Change Relating ...\n",
       "6     Adjudication Order In Respect of PRB Securitie...\n",
       "7     “Sustainable Finance: The Changing Regulatory ...\n",
       "8     Amendments to the General Regulation Under the...\n",
       "9     Consumer Protection Airlines Commit To Timely ...\n",
       "10    Consultation Paper on Compliance Standards for...\n",
       "11    Proposed Rule; Extension of Comment Period - T...\n",
       "12    The Autorite des Marches Financiers Now Overse...\n",
       "13    Adjudication Order In Respect Of 5 Entities In...\n",
       "14    Banca Carige Spa - Provision No. 113 of 22 Mar...\n",
       "15    Notice of Filing and Immediate Effectiveness o...\n",
       "16    Notice of Designation of a Longer Period for C...\n",
       "17    Announcement on the Temporary Suspension of Tr...\n",
       "18    The National Evaluation of the Risks of Money ...\n",
       "19    Exchange Fund Abridged Balance Sheet and Curre...\n",
       "20    Gaining Momentum - Results Of The 2021 BIS Sur...\n",
       "21    Bitauto Holdings Limited - Cash Settlement Opt...\n",
       "22    Notice of Filing and Immediate Effectiveness o...\n",
       "23    OSFI Offers Technical Briefing for Media on Re...\n",
       "24            TrueShares Structured Outcome (March) ETF\n",
       "25    Update of ICE Clear Europe List of Permitted C...\n",
       "26    Adjudication Order In The Matter of Uma Bansal...\n",
       "27    Agreement By and Between Texas Citizens Bank, ...\n",
       "28    Regulation to Amend Regulation 41-101 Respecti...\n",
       "29    2019 Analysis Report on the Sale of Insurance ...\n",
       "30    Energy Ministers Revisit The Issue Of High Ene...\n",
       "31    3028. Decision on Amendments to the Decision o...\n",
       "32    Arbitration Clauses, Choice of Law, and Choice...\n",
       "33    Update of the Financial Entities Bureau for th...\n",
       "34    Adjudication Order in Respect of Anoop Jain HU...\n",
       "35    CVM Warns: Irregular Performance of Portfolio ...\n",
       "36    $ 5 Trillion Economy: Aspiration to Action (Sh...\n",
       "37          Sanctions Imposed on Nonghyup Bank Co., Ltd\n",
       "38    Bank of Russia Ordinance On Amendments to Inst...\n",
       "39    Final Rule  - Regulatory Capital Rule: Revised...\n",
       "40    Notice of Filing of Proposed Rule Change To Am...\n",
       "41    Proposed Rule Change to Provide for Promotiona...\n",
       "42    ICO Call for Views: AI and Data Protection Ris...\n",
       "43    A Proposal to Amend the Exchanges Market Maker...\n",
       "44    Communique of Banco de Portugal on the Impleme...\n",
       "45    Order Granting Permission to File Application ...\n",
       "46                     Proposal to Amend Its Price List\n",
       "47    An Act Relating to Banks, Making Appropriation...\n",
       "48    Order of the Financial Supervision and Adminis...\n",
       "49    Climate Risk - the Merits of Transparency and ...\n",
       "Name: name, dtype: object"
      ]
     },
     "execution_count": 7,
     "metadata": {},
     "output_type": "execute_result"
    }
   ],
   "source": [
    "df['name'].head(50)"
   ]
  },
  {
   "cell_type": "code",
   "execution_count": 8,
   "metadata": {},
   "outputs": [],
   "source": [
    "df['name_length'] = df['name'].apply(lambda x: len(x))"
   ]
  },
  {
   "cell_type": "code",
   "execution_count": 9,
   "metadata": {},
   "outputs": [],
   "source": [
    "df['document_text_length'] = df['document_text'].apply(lambda x: len(x))"
   ]
  },
  {
   "cell_type": "code",
   "execution_count": 10,
   "metadata": {},
   "outputs": [
    {
     "data": {
      "text/html": [
       "<div>\n",
       "<style scoped>\n",
       "    .dataframe tbody tr th:only-of-type {\n",
       "        vertical-align: middle;\n",
       "    }\n",
       "\n",
       "    .dataframe tbody tr th {\n",
       "        vertical-align: top;\n",
       "    }\n",
       "\n",
       "    .dataframe thead th {\n",
       "        text-align: right;\n",
       "    }\n",
       "</style>\n",
       "<table border=\"1\" class=\"dataframe\">\n",
       "  <thead>\n",
       "    <tr style=\"text-align: right;\">\n",
       "      <th></th>\n",
       "      <th>id</th>\n",
       "      <th>name</th>\n",
       "      <th>document_text</th>\n",
       "      <th>cat_name</th>\n",
       "      <th>name_length</th>\n",
       "      <th>document_text_length</th>\n",
       "    </tr>\n",
       "  </thead>\n",
       "  <tbody>\n",
       "    <tr>\n",
       "      <th>0</th>\n",
       "      <td>22474</td>\n",
       "      <td>Information Regarding the Merger of Navios Mar...</td>\n",
       "      <td>At a special meeting held on March 24, 2021 sh...</td>\n",
       "      <td>Corporate Communications</td>\n",
       "      <td>73</td>\n",
       "      <td>584</td>\n",
       "    </tr>\n",
       "    <tr>\n",
       "      <th>1</th>\n",
       "      <td>27460</td>\n",
       "      <td>Announcement on Approving the Change of Member...</td>\n",
       "      <td>On April 2, 2021, the China Financial Futures ...</td>\n",
       "      <td>Securities Settlement</td>\n",
       "      <td>73</td>\n",
       "      <td>536</td>\n",
       "    </tr>\n",
       "  </tbody>\n",
       "</table>\n",
       "</div>"
      ],
      "text/plain": [
       "      id                                               name  \\\n",
       "0  22474  Information Regarding the Merger of Navios Mar...   \n",
       "1  27460  Announcement on Approving the Change of Member...   \n",
       "\n",
       "                                       document_text  \\\n",
       "0  At a special meeting held on March 24, 2021 sh...   \n",
       "1  On April 2, 2021, the China Financial Futures ...   \n",
       "\n",
       "                   cat_name  name_length  document_text_length  \n",
       "0  Corporate Communications           73                   584  \n",
       "1     Securities Settlement           73                   536  "
      ]
     },
     "execution_count": 10,
     "metadata": {},
     "output_type": "execute_result"
    }
   ],
   "source": [
    "df.head(2)"
   ]
  },
  {
   "cell_type": "code",
   "execution_count": 11,
   "metadata": {},
   "outputs": [],
   "source": [
    "# function to remove stopwords(like a, the, is, are, etc) and lemmatize the words\n",
    "def remove_stopowords(text):\n",
    "    stop_words = set(stopwords.words('english'))\n",
    "    word_tokens = word_tokenize(text)\n",
    "    filtered_sentence = [w for w in word_tokens if not w in stop_words]\n",
    "    return ' '.join(filtered_sentence)\n"
   ]
  },
  {
   "cell_type": "code",
   "execution_count": 12,
   "metadata": {},
   "outputs": [],
   "source": [
    "def remove_puntuations(text):\n",
    "    puntuations = '''!()-[]{};:'\"\\,<>./?@#$%^&*_~'''\n",
    "    no_puntuations = \"\"\n",
    "    for char in text:\n",
    "        if char not in puntuations:\n",
    "            no_puntuations = no_puntuations + char\n",
    "    return no_puntuations\n"
   ]
  },
  {
   "cell_type": "code",
   "execution_count": 13,
   "metadata": {},
   "outputs": [],
   "source": [
    "df['name'] = df['name'].apply(lambda x: remove_puntuations(x))"
   ]
  },
  {
   "cell_type": "code",
   "execution_count": 14,
   "metadata": {},
   "outputs": [],
   "source": [
    "df['name'] = df['name'].apply(lambda x: remove_stopowords(x))"
   ]
  },
  {
   "cell_type": "code",
   "execution_count": 15,
   "metadata": {},
   "outputs": [],
   "source": [
    "df['name'] = df['name'].apply(lambda x: x.lower())"
   ]
  },
  {
   "cell_type": "code",
   "execution_count": 16,
   "metadata": {},
   "outputs": [],
   "source": [
    "df['document_text'] = df['document_text'].apply(lambda x: remove_puntuations(x))\n"
   ]
  },
  {
   "cell_type": "code",
   "execution_count": 17,
   "metadata": {},
   "outputs": [],
   "source": [
    "df['document_text'] = df['document_text'].apply(lambda x: remove_stopowords(x))"
   ]
  },
  {
   "cell_type": "code",
   "execution_count": 18,
   "metadata": {},
   "outputs": [],
   "source": [
    "\n",
    "df['document_text'] = df['document_text'].apply(lambda x: x.lower())\n"
   ]
  },
  {
   "cell_type": "code",
   "execution_count": 20,
   "metadata": {},
   "outputs": [],
   "source": [
    "df.drop(['name_length', 'document_text_length'], axis=1, inplace=True)"
   ]
  },
  {
   "cell_type": "code",
   "execution_count": 21,
   "metadata": {},
   "outputs": [
    {
     "data": {
      "text/html": [
       "<div>\n",
       "<style scoped>\n",
       "    .dataframe tbody tr th:only-of-type {\n",
       "        vertical-align: middle;\n",
       "    }\n",
       "\n",
       "    .dataframe tbody tr th {\n",
       "        vertical-align: top;\n",
       "    }\n",
       "\n",
       "    .dataframe thead th {\n",
       "        text-align: right;\n",
       "    }\n",
       "</style>\n",
       "<table border=\"1\" class=\"dataframe\">\n",
       "  <thead>\n",
       "    <tr style=\"text-align: right;\">\n",
       "      <th></th>\n",
       "      <th>id</th>\n",
       "      <th>name</th>\n",
       "      <th>document_text</th>\n",
       "      <th>cat_name</th>\n",
       "    </tr>\n",
       "  </thead>\n",
       "  <tbody>\n",
       "    <tr>\n",
       "      <th>0</th>\n",
       "      <td>22474</td>\n",
       "      <td>information regarding merger navios maritime c...</td>\n",
       "      <td>at special meeting held march 24 2021 sharehol...</td>\n",
       "      <td>Corporate Communications</td>\n",
       "    </tr>\n",
       "    <tr>\n",
       "      <th>1</th>\n",
       "      <td>27460</td>\n",
       "      <td>announcement approving change membership 2 fut...</td>\n",
       "      <td>on april 2 2021 china financial futures exchan...</td>\n",
       "      <td>Securities Settlement</td>\n",
       "    </tr>\n",
       "    <tr>\n",
       "      <th>2</th>\n",
       "      <td>6926</td>\n",
       "      <td>sfc suspends shiu yau wah five months</td>\n",
       "      <td>the securities futures commission sfc suspende...</td>\n",
       "      <td>Antitrust</td>\n",
       "    </tr>\n",
       "    <tr>\n",
       "      <th>3</th>\n",
       "      <td>6982</td>\n",
       "      <td>renminbi rmb haircut february 4 2020</td>\n",
       "      <td>pursuant section 262 clearing house procedures...</td>\n",
       "      <td>Securities Settlement</td>\n",
       "    </tr>\n",
       "    <tr>\n",
       "      <th>4</th>\n",
       "      <td>5022</td>\n",
       "      <td>antimoney laundering countering financing terr...</td>\n",
       "      <td>money laundering terrorism financing mltf fina...</td>\n",
       "      <td>Financial Crime</td>\n",
       "    </tr>\n",
       "  </tbody>\n",
       "</table>\n",
       "</div>"
      ],
      "text/plain": [
       "      id                                               name  \\\n",
       "0  22474  information regarding merger navios maritime c...   \n",
       "1  27460  announcement approving change membership 2 fut...   \n",
       "2   6926              sfc suspends shiu yau wah five months   \n",
       "3   6982               renminbi rmb haircut february 4 2020   \n",
       "4   5022  antimoney laundering countering financing terr...   \n",
       "\n",
       "                                       document_text                  cat_name  \n",
       "0  at special meeting held march 24 2021 sharehol...  Corporate Communications  \n",
       "1  on april 2 2021 china financial futures exchan...     Securities Settlement  \n",
       "2  the securities futures commission sfc suspende...                 Antitrust  \n",
       "3  pursuant section 262 clearing house procedures...     Securities Settlement  \n",
       "4  money laundering terrorism financing mltf fina...           Financial Crime  "
      ]
     },
     "execution_count": 21,
     "metadata": {},
     "output_type": "execute_result"
    }
   ],
   "source": [
    "df.head()"
   ]
  },
  {
   "cell_type": "code",
   "execution_count": 22,
   "metadata": {},
   "outputs": [],
   "source": [
    "df.to_csv('../dataset/train_cleaned.csv', index=False)"
   ]
  },
  {
   "cell_type": "code",
   "execution_count": null,
   "metadata": {},
   "outputs": [],
   "source": []
  },
  {
   "cell_type": "code",
   "execution_count": 37,
   "metadata": {},
   "outputs": [],
   "source": [
    "df['new_name_length'] = df['name'].apply(lambda x: len(x))\n",
    "df['new_document_text_length'] = df['document_text'].apply(lambda x: len(x))"
   ]
  },
  {
   "cell_type": "code",
   "execution_count": 38,
   "metadata": {},
   "outputs": [
    {
     "data": {
      "text/html": [
       "<div>\n",
       "<style scoped>\n",
       "    .dataframe tbody tr th:only-of-type {\n",
       "        vertical-align: middle;\n",
       "    }\n",
       "\n",
       "    .dataframe tbody tr th {\n",
       "        vertical-align: top;\n",
       "    }\n",
       "\n",
       "    .dataframe thead th {\n",
       "        text-align: right;\n",
       "    }\n",
       "</style>\n",
       "<table border=\"1\" class=\"dataframe\">\n",
       "  <thead>\n",
       "    <tr style=\"text-align: right;\">\n",
       "      <th></th>\n",
       "      <th>id</th>\n",
       "      <th>name</th>\n",
       "      <th>document_text</th>\n",
       "      <th>cat_name</th>\n",
       "      <th>name_length</th>\n",
       "      <th>document_text_length</th>\n",
       "      <th>new_name_length</th>\n",
       "      <th>new_document_text_length</th>\n",
       "    </tr>\n",
       "  </thead>\n",
       "  <tbody>\n",
       "    <tr>\n",
       "      <th>0</th>\n",
       "      <td>22474</td>\n",
       "      <td>information regarding merger navios maritime c...</td>\n",
       "      <td>at special meeting held march 24 2021 sharehol...</td>\n",
       "      <td>Corporate Communications</td>\n",
       "      <td>73</td>\n",
       "      <td>584</td>\n",
       "      <td>64</td>\n",
       "      <td>507</td>\n",
       "    </tr>\n",
       "    <tr>\n",
       "      <th>1</th>\n",
       "      <td>27460</td>\n",
       "      <td>announcement approving change membership 2 fut...</td>\n",
       "      <td>on april 2 2021 china financial futures exchan...</td>\n",
       "      <td>Securities Settlement</td>\n",
       "      <td>73</td>\n",
       "      <td>536</td>\n",
       "      <td>60</td>\n",
       "      <td>451</td>\n",
       "    </tr>\n",
       "    <tr>\n",
       "      <th>2</th>\n",
       "      <td>6926</td>\n",
       "      <td>sfc suspends shiu yau wah five months</td>\n",
       "      <td>the securities futures commission sfc suspende...</td>\n",
       "      <td>Antitrust</td>\n",
       "      <td>41</td>\n",
       "      <td>898</td>\n",
       "      <td>37</td>\n",
       "      <td>694</td>\n",
       "    </tr>\n",
       "    <tr>\n",
       "      <th>3</th>\n",
       "      <td>6982</td>\n",
       "      <td>renminbi rmb haircut february 4 2020</td>\n",
       "      <td>pursuant section 262 clearing house procedures...</td>\n",
       "      <td>Securities Settlement</td>\n",
       "      <td>39</td>\n",
       "      <td>771</td>\n",
       "      <td>36</td>\n",
       "      <td>582</td>\n",
       "    </tr>\n",
       "  </tbody>\n",
       "</table>\n",
       "</div>"
      ],
      "text/plain": [
       "      id                                               name  \\\n",
       "0  22474  information regarding merger navios maritime c...   \n",
       "1  27460  announcement approving change membership 2 fut...   \n",
       "2   6926              sfc suspends shiu yau wah five months   \n",
       "3   6982               renminbi rmb haircut february 4 2020   \n",
       "\n",
       "                                       document_text  \\\n",
       "0  at special meeting held march 24 2021 sharehol...   \n",
       "1  on april 2 2021 china financial futures exchan...   \n",
       "2  the securities futures commission sfc suspende...   \n",
       "3  pursuant section 262 clearing house procedures...   \n",
       "\n",
       "                   cat_name  name_length  document_text_length  \\\n",
       "0  Corporate Communications           73                   584   \n",
       "1     Securities Settlement           73                   536   \n",
       "2                 Antitrust           41                   898   \n",
       "3     Securities Settlement           39                   771   \n",
       "\n",
       "   new_name_length  new_document_text_length  \n",
       "0               64                       507  \n",
       "1               60                       451  \n",
       "2               37                       694  \n",
       "3               36                       582  "
      ]
     },
     "execution_count": 38,
     "metadata": {},
     "output_type": "execute_result"
    }
   ],
   "source": [
    "df.head(4)"
   ]
  },
  {
   "cell_type": "code",
   "execution_count": 39,
   "metadata": {},
   "outputs": [],
   "source": [
    "df "
   ]
  },
  {
   "cell_type": "code",
   "execution_count": null,
   "metadata": {},
   "outputs": [],
   "source": [
    "df['name'] = df['name'].apply"
   ]
  }
 ],
 "metadata": {
  "kernelspec": {
   "display_name": "Python 3.8.2 ('env': venv)",
   "language": "python",
   "name": "python3"
  },
  "language_info": {
   "codemirror_mode": {
    "name": "ipython",
    "version": 3
   },
   "file_extension": ".py",
   "mimetype": "text/x-python",
   "name": "python",
   "nbconvert_exporter": "python",
   "pygments_lexer": "ipython3",
   "version": "3.8.2"
  },
  "orig_nbformat": 4,
  "vscode": {
   "interpreter": {
    "hash": "5bcd3bd91634f90d893f305e000b8afbfccf61b33802b4ec2af08c281c4d8aed"
   }
  }
 },
 "nbformat": 4,
 "nbformat_minor": 2
}
